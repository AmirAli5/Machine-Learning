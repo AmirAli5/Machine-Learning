{
 "cells": [
  {
   "cell_type": "markdown",
   "metadata": {},
   "source": [
    "![Cover](https://pbs.twimg.com/media/FaJlIU9WAAAD6TC?format=jpg&name=medium)"
   ]
  },
  {
   "cell_type": "markdown",
   "metadata": {},
   "source": [
    "Apriori algorithm refers to an algorithm that is used in mining frequent products sets and relevant association rules. Generally, the apriori algorithm operates on a database containing a huge number of transactions. For example, the items customers but at a Big Bazar.\n",
    "\n",
    "[Click to see my article on Apriori Algorithm](https://medium.com/machine-learning-researcher/association-rule-apriori-and-eclat-algorithm-4e963fa972a4)"
   ]
  },
  {
   "cell_type": "markdown",
   "metadata": {},
   "source": [
    "![Machine Learning Project](https://user-images.githubusercontent.com/7065401/52071927-c1cd7100-2562-11e9-908a-dde91ba14e59.png)"
   ]
  },
  {
   "cell_type": "markdown",
   "metadata": {},
   "source": [
    "## <font color = #950CDF> Part 1: </font> <font color = #4854E8> Import Libraries and Dataset </font>\n",
    "In this part, we import required libraries and dataset. The dataset is about transaction for different items of grocery store."
   ]
  },
  {
   "cell_type": "markdown",
   "metadata": {},
   "source": [
    "![ML](https://user-images.githubusercontent.com/7065401/52071924-c003ad80-2562-11e9-8297-1c6595f8a7ff.png)"
   ]
  },
  {
   "cell_type": "markdown",
   "metadata": {},
   "source": [
    "### <font color = #27C3E5> 1.1: </font> <font color = #41EA46> Import Libraries and Dataset </font>"
   ]
  },
  {
   "cell_type": "markdown",
   "metadata": {},
   "source": [
    "#### <font color = blue>Import the Libraries"
   ]
  },
  {
   "cell_type": "code",
   "execution_count": 33,
   "metadata": {},
   "outputs": [],
   "source": [
    "import numpy as np\n",
    "import pandas as pd\n",
    "import matplotlib.pyplot as plt"
   ]
  },
  {
   "cell_type": "markdown",
   "metadata": {},
   "source": [
    "#### <font color = blue>Import the Dataset"
   ]
  },
  {
   "cell_type": "code",
   "execution_count": 34,
   "metadata": {},
   "outputs": [],
   "source": [
    "dataset=pd.read_csv('Dataset/Market_Basket_Optimisation.csv', header=None)\n",
    "transactions=[]\n",
    "for i in range(0,7501):\n",
    "    transactions.append([str(dataset.values[i,j]) for j in range(0,20)])"
   ]
  },
  {
   "cell_type": "markdown",
   "metadata": {},
   "source": [
    "![Machine Learning Project](https://user-images.githubusercontent.com/7065401/52071927-c1cd7100-2562-11e9-908a-dde91ba14e59.png)"
   ]
  },
  {
   "cell_type": "markdown",
   "metadata": {},
   "source": [
    "## <font color = #950CDF> Part 2: </font> <font color = #4854E8> Build the Apriori Algorithm </font>\n",
    "In this part, we build the Apriori Algorithm"
   ]
  },
  {
   "cell_type": "markdown",
   "metadata": {},
   "source": [
    "![ML](https://user-images.githubusercontent.com/7065401/52071924-c003ad80-2562-11e9-8297-1c6595f8a7ff.png)"
   ]
  },
  {
   "cell_type": "markdown",
   "metadata": {},
   "source": [
    "### <font color = #27C3E5> 2.1: </font> <font color = #41EA46> Import and Train the Model </font>"
   ]
  },
  {
   "cell_type": "markdown",
   "metadata": {},
   "source": [
    "#### <font color = blue> Import the Apriori Model"
   ]
  },
  {
   "cell_type": "code",
   "execution_count": 35,
   "metadata": {},
   "outputs": [],
   "source": [
    "from apyori import apriori"
   ]
  },
  {
   "cell_type": "markdown",
   "metadata": {},
   "source": [
    "#### <font color = blue> Training the Model"
   ]
  },
  {
   "cell_type": "code",
   "execution_count": 36,
   "metadata": {},
   "outputs": [],
   "source": [
    "rule= apriori(transactions, min_support=0.003, min_confidence=0.2, min_lift=3, min_length=2)"
   ]
  },
  {
   "cell_type": "markdown",
   "metadata": {},
   "source": [
    "![Machine Learning Project](https://user-images.githubusercontent.com/7065401/52071927-c1cd7100-2562-11e9-908a-dde91ba14e59.png)"
   ]
  },
  {
   "cell_type": "markdown",
   "metadata": {},
   "source": [
    "## <font color = #950CDF> Part 3: </font> <font color = #4854E8> Visualize the Result </font>\n",
    "In this part, we visualize the result."
   ]
  },
  {
   "cell_type": "markdown",
   "metadata": {},
   "source": [
    "![ML](https://user-images.githubusercontent.com/7065401/52071924-c003ad80-2562-11e9-8297-1c6595f8a7ff.png)"
   ]
  },
  {
   "cell_type": "markdown",
   "metadata": {},
   "source": [
    "#### <font color = blue> Visualising  the Results"
   ]
  },
  {
   "cell_type": "code",
   "execution_count": 37,
   "metadata": {},
   "outputs": [
    {
     "data": {
      "text/plain": [
       "[RelationRecord(items=frozenset({'chicken', 'light cream'}), support=0.004532728969470737, ordered_statistics=[OrderedStatistic(items_base=frozenset({'light cream'}), items_add=frozenset({'chicken'}), confidence=0.29059829059829057, lift=4.84395061728395)]),\n",
       " RelationRecord(items=frozenset({'mushroom cream sauce', 'escalope'}), support=0.005732568990801226, ordered_statistics=[OrderedStatistic(items_base=frozenset({'mushroom cream sauce'}), items_add=frozenset({'escalope'}), confidence=0.3006993006993007, lift=3.790832696715049)]),\n",
       " RelationRecord(items=frozenset({'pasta', 'escalope'}), support=0.005865884548726837, ordered_statistics=[OrderedStatistic(items_base=frozenset({'pasta'}), items_add=frozenset({'escalope'}), confidence=0.3728813559322034, lift=4.700811850163794)]),\n",
       " RelationRecord(items=frozenset({'honey', 'fromage blanc'}), support=0.003332888948140248, ordered_statistics=[OrderedStatistic(items_base=frozenset({'fromage blanc'}), items_add=frozenset({'honey'}), confidence=0.2450980392156863, lift=5.164270764485569)]),\n",
       " RelationRecord(items=frozenset({'herb & pepper', 'ground beef'}), support=0.015997866951073192, ordered_statistics=[OrderedStatistic(items_base=frozenset({'herb & pepper'}), items_add=frozenset({'ground beef'}), confidence=0.3234501347708895, lift=3.2919938411349285)]),\n",
       " RelationRecord(items=frozenset({'ground beef', 'tomato sauce'}), support=0.005332622317024397, ordered_statistics=[OrderedStatistic(items_base=frozenset({'tomato sauce'}), items_add=frozenset({'ground beef'}), confidence=0.3773584905660377, lift=3.840659481324083)]),\n",
       " RelationRecord(items=frozenset({'olive oil', 'light cream'}), support=0.003199573390214638, ordered_statistics=[OrderedStatistic(items_base=frozenset({'light cream'}), items_add=frozenset({'olive oil'}), confidence=0.20512820512820515, lift=3.1147098515519573)]),\n",
       " RelationRecord(items=frozenset({'olive oil', 'whole wheat pasta'}), support=0.007998933475536596, ordered_statistics=[OrderedStatistic(items_base=frozenset({'whole wheat pasta'}), items_add=frozenset({'olive oil'}), confidence=0.2714932126696833, lift=4.122410097642296)]),\n",
       " RelationRecord(items=frozenset({'pasta', 'shrimp'}), support=0.005065991201173177, ordered_statistics=[OrderedStatistic(items_base=frozenset({'pasta'}), items_add=frozenset({'shrimp'}), confidence=0.3220338983050847, lift=4.506672147735896)]),\n",
       " RelationRecord(items=frozenset({'spaghetti', 'avocado', 'milk'}), support=0.003332888948140248, ordered_statistics=[OrderedStatistic(items_base=frozenset({'spaghetti', 'avocado'}), items_add=frozenset({'milk'}), confidence=0.41666666666666663, lift=3.215449245541838)]),\n",
       " RelationRecord(items=frozenset({'burgers', 'cake', 'milk'}), support=0.0037328356219170776, ordered_statistics=[OrderedStatistic(items_base=frozenset({'cake', 'milk'}), items_add=frozenset({'burgers'}), confidence=0.27999999999999997, lift=3.211437308868501)]),\n",
       " RelationRecord(items=frozenset({'burgers', 'chocolate', 'turkey'}), support=0.0030662578322890282, ordered_statistics=[OrderedStatistic(items_base=frozenset({'chocolate', 'turkey'}), items_add=frozenset({'burgers'}), confidence=0.27058823529411763, lift=3.1034898363014927)]),\n",
       " RelationRecord(items=frozenset({'burgers', 'turkey', 'milk'}), support=0.003199573390214638, ordered_statistics=[OrderedStatistic(items_base=frozenset({'turkey', 'milk'}), items_add=frozenset({'burgers'}), confidence=0.2823529411764706, lift=3.2384241770102533)]),\n",
       " RelationRecord(items=frozenset({'tomatoes', 'cake', 'frozen vegetables'}), support=0.0030662578322890282, ordered_statistics=[OrderedStatistic(items_base=frozenset({'cake', 'frozen vegetables'}), items_add=frozenset({'tomatoes'}), confidence=0.2987012987012987, lift=4.367560314928736), OrderedStatistic(items_base=frozenset({'cake', 'tomatoes'}), items_add=frozenset({'frozen vegetables'}), confidence=0.36507936507936506, lift=3.8300144300144296)]),\n",
       " RelationRecord(items=frozenset({'cereals', 'spaghetti', 'ground beef'}), support=0.0030662578322890282, ordered_statistics=[OrderedStatistic(items_base=frozenset({'cereals', 'ground beef'}), items_add=frozenset({'spaghetti'}), confidence=0.6764705882352942, lift=3.8853031258445188), OrderedStatistic(items_base=frozenset({'cereals', 'spaghetti'}), items_add=frozenset({'ground beef'}), confidence=0.45999999999999996, lift=4.681763907734057)]),\n",
       " RelationRecord(items=frozenset({'chicken', 'ground beef', 'milk'}), support=0.0038661511798426876, ordered_statistics=[OrderedStatistic(items_base=frozenset({'chicken', 'ground beef'}), items_add=frozenset({'milk'}), confidence=0.40845070422535207, lift=3.152046020981858)]),\n",
       " RelationRecord(items=frozenset({'nan', 'chicken', 'light cream'}), support=0.004532728969470737, ordered_statistics=[OrderedStatistic(items_base=frozenset({'nan', 'light cream'}), items_add=frozenset({'chicken'}), confidence=0.29059829059829057, lift=4.84395061728395)]),\n",
       " RelationRecord(items=frozenset({'olive oil', 'chicken', 'milk'}), support=0.0035995200639914677, ordered_statistics=[OrderedStatistic(items_base=frozenset({'chicken', 'milk'}), items_add=frozenset({'olive oil'}), confidence=0.24324324324324323, lift=3.693456614509246), OrderedStatistic(items_base=frozenset({'olive oil', 'chicken'}), items_add=frozenset({'milk'}), confidence=0.5, lift=3.858539094650206), OrderedStatistic(items_base=frozenset({'olive oil', 'milk'}), items_add=frozenset({'chicken'}), confidence=0.2109375, lift=3.51609375)]),\n",
       " RelationRecord(items=frozenset({'olive oil', 'spaghetti', 'chicken'}), support=0.0034662045060658577, ordered_statistics=[OrderedStatistic(items_base=frozenset({'spaghetti', 'chicken'}), items_add=frozenset({'olive oil'}), confidence=0.20155038759689922, lift=3.0603835169318647)]),\n",
       " RelationRecord(items=frozenset({'chocolate', 'shrimp', 'frozen vegetables'}), support=0.005332622317024397, ordered_statistics=[OrderedStatistic(items_base=frozenset({'chocolate', 'frozen vegetables'}), items_add=frozenset({'shrimp'}), confidence=0.23255813953488375, lift=3.2545123221103784), OrderedStatistic(items_base=frozenset({'chocolate', 'shrimp'}), items_add=frozenset({'frozen vegetables'}), confidence=0.29629629629629634, lift=3.1084175084175087)]),\n",
       " RelationRecord(items=frozenset({'chocolate', 'herb & pepper', 'ground beef'}), support=0.003999466737768298, ordered_statistics=[OrderedStatistic(items_base=frozenset({'chocolate', 'herb & pepper'}), items_add=frozenset({'ground beef'}), confidence=0.4411764705882354, lift=4.4901827759597746)]),\n",
       " RelationRecord(items=frozenset({'chocolate', 'soup', 'milk'}), support=0.003999466737768298, ordered_statistics=[OrderedStatistic(items_base=frozenset({'chocolate', 'soup'}), items_add=frozenset({'milk'}), confidence=0.3947368421052632, lift=3.0462150747238472)]),\n",
       " RelationRecord(items=frozenset({'cooking oil', 'spaghetti', 'ground beef'}), support=0.004799360085321957, ordered_statistics=[OrderedStatistic(items_base=frozenset({'cooking oil', 'ground beef'}), items_add=frozenset({'spaghetti'}), confidence=0.5714285714285714, lift=3.2819951870487856), OrderedStatistic(items_base=frozenset({'cooking oil', 'spaghetti'}), items_add=frozenset({'ground beef'}), confidence=0.3025210084033613, lift=3.0789824749438446)]),\n",
       " RelationRecord(items=frozenset({'eggs', 'herb & pepper', 'ground beef'}), support=0.0041327822956939075, ordered_statistics=[OrderedStatistic(items_base=frozenset({'eggs', 'ground beef'}), items_add=frozenset({'herb & pepper'}), confidence=0.2066666666666667, lift=4.178454627133872), OrderedStatistic(items_base=frozenset({'eggs', 'herb & pepper'}), items_add=frozenset({'ground beef'}), confidence=0.3297872340425532, lift=3.3564912381997174)]),\n",
       " RelationRecord(items=frozenset({'eggs', 'red wine', 'spaghetti'}), support=0.0037328356219170776, ordered_statistics=[OrderedStatistic(items_base=frozenset({'eggs', 'red wine'}), items_add=frozenset({'spaghetti'}), confidence=0.5283018867924528, lift=3.0342974370828397)]),\n",
       " RelationRecord(items=frozenset({'mushroom cream sauce', 'escalope', 'nan'}), support=0.005732568990801226, ordered_statistics=[OrderedStatistic(items_base=frozenset({'mushroom cream sauce', 'nan'}), items_add=frozenset({'escalope'}), confidence=0.3006993006993007, lift=3.790832696715049)]),\n",
       " RelationRecord(items=frozenset({'pasta', 'escalope', 'nan'}), support=0.005865884548726837, ordered_statistics=[OrderedStatistic(items_base=frozenset({'pasta', 'nan'}), items_add=frozenset({'escalope'}), confidence=0.3728813559322034, lift=4.700811850163794)]),\n",
       " RelationRecord(items=frozenset({'french fries', 'herb & pepper', 'ground beef'}), support=0.003199573390214638, ordered_statistics=[OrderedStatistic(items_base=frozenset({'french fries', 'ground beef'}), items_add=frozenset({'herb & pepper'}), confidence=0.23076923076923078, lift=4.665768194070081), OrderedStatistic(items_base=frozenset({'french fries', 'herb & pepper'}), items_add=frozenset({'ground beef'}), confidence=0.46153846153846156, lift=4.697421981004071)]),\n",
       " RelationRecord(items=frozenset({'nan', 'honey', 'fromage blanc'}), support=0.003332888948140248, ordered_statistics=[OrderedStatistic(items_base=frozenset({'nan', 'fromage blanc'}), items_add=frozenset({'honey'}), confidence=0.2450980392156863, lift=5.164270764485569)]),\n",
       " RelationRecord(items=frozenset({'tomatoes', 'frozen vegetables', 'green tea'}), support=0.003332888948140248, ordered_statistics=[OrderedStatistic(items_base=frozenset({'frozen vegetables', 'green tea'}), items_add=frozenset({'tomatoes'}), confidence=0.2314814814814815, lift=3.38468341635983)]),\n",
       " RelationRecord(items=frozenset({'spaghetti', 'frozen vegetables', 'ground beef'}), support=0.008665511265164644, ordered_statistics=[OrderedStatistic(items_base=frozenset({'spaghetti', 'frozen vegetables'}), items_add=frozenset({'ground beef'}), confidence=0.31100478468899523, lift=3.165328208890303)]),\n",
       " RelationRecord(items=frozenset({'olive oil', 'frozen vegetables', 'milk'}), support=0.004799360085321957, ordered_statistics=[OrderedStatistic(items_base=frozenset({'frozen vegetables', 'milk'}), items_add=frozenset({'olive oil'}), confidence=0.20338983050847456, lift=3.088314005352364), OrderedStatistic(items_base=frozenset({'olive oil', 'frozen vegetables'}), items_add=frozenset({'milk'}), confidence=0.4235294117647058, lift=3.2684095860566447)]),\n",
       " RelationRecord(items=frozenset({'soup', 'frozen vegetables', 'milk'}), support=0.003999466737768298, ordered_statistics=[OrderedStatistic(items_base=frozenset({'soup', 'frozen vegetables'}), items_add=frozenset({'milk'}), confidence=0.5, lift=3.858539094650206)]),\n",
       " RelationRecord(items=frozenset({'tomatoes', 'frozen vegetables', 'milk'}), support=0.0041327822956939075, ordered_statistics=[OrderedStatistic(items_base=frozenset({'tomatoes', 'milk'}), items_add=frozenset({'frozen vegetables'}), confidence=0.29523809523809524, lift=3.0973160173160172)]),\n",
       " RelationRecord(items=frozenset({'shrimp', 'mineral water', 'frozen vegetables'}), support=0.007199040127982935, ordered_statistics=[OrderedStatistic(items_base=frozenset({'shrimp', 'mineral water'}), items_add=frozenset({'frozen vegetables'}), confidence=0.30508474576271183, lift=3.200616332819722)]),\n",
       " RelationRecord(items=frozenset({'olive oil', 'spaghetti', 'frozen vegetables'}), support=0.005732568990801226, ordered_statistics=[OrderedStatistic(items_base=frozenset({'spaghetti', 'frozen vegetables'}), items_add=frozenset({'olive oil'}), confidence=0.20574162679425836, lift=3.1240241752707125)]),\n",
       " RelationRecord(items=frozenset({'shrimp', 'spaghetti', 'frozen vegetables'}), support=0.005999200106652446, ordered_statistics=[OrderedStatistic(items_base=frozenset({'spaghetti', 'frozen vegetables'}), items_add=frozenset({'shrimp'}), confidence=0.21531100478468898, lift=3.0131489680782684)]),\n",
       " RelationRecord(items=frozenset({'tomatoes', 'shrimp', 'frozen vegetables'}), support=0.003999466737768298, ordered_statistics=[OrderedStatistic(items_base=frozenset({'shrimp', 'frozen vegetables'}), items_add=frozenset({'tomatoes'}), confidence=0.24000000000000002, lift=3.5092397660818717), OrderedStatistic(items_base=frozenset({'tomatoes', 'frozen vegetables'}), items_add=frozenset({'shrimp'}), confidence=0.2479338842975207, lift=3.4696866905143704), OrderedStatistic(items_base=frozenset({'shrimp', 'tomatoes'}), items_add=frozenset({'frozen vegetables'}), confidence=0.35714285714285715, lift=3.7467532467532467)]),\n",
       " RelationRecord(items=frozenset({'tomatoes', 'spaghetti', 'frozen vegetables'}), support=0.006665777896280496, ordered_statistics=[OrderedStatistic(items_base=frozenset({'spaghetti', 'frozen vegetables'}), items_add=frozenset({'tomatoes'}), confidence=0.23923444976076558, lift=3.4980460188216425), OrderedStatistic(items_base=frozenset({'spaghetti', 'tomatoes'}), items_add=frozenset({'frozen vegetables'}), confidence=0.3184713375796179, lift=3.341053850607991)]),\n",
       " RelationRecord(items=frozenset({'grated cheese', 'spaghetti', 'ground beef'}), support=0.005332622317024397, ordered_statistics=[OrderedStatistic(items_base=frozenset({'grated cheese', 'spaghetti'}), items_add=frozenset({'ground beef'}), confidence=0.3225806451612903, lift=3.283144395325426)]),\n",
       " RelationRecord(items=frozenset({'tomatoes', 'ground beef', 'green tea'}), support=0.0030662578322890282, ordered_statistics=[OrderedStatistic(items_base=frozenset({'ground beef', 'green tea'}), items_add=frozenset({'tomatoes'}), confidence=0.2072072072072072, lift=3.0297490472929067)]),\n",
       " RelationRecord(items=frozenset({'herb & pepper', 'ground beef', 'milk'}), support=0.0035995200639914677, ordered_statistics=[OrderedStatistic(items_base=frozenset({'herb & pepper', 'milk'}), items_add=frozenset({'ground beef'}), confidence=0.3913043478260869, lift=3.9825968969382335)]),\n",
       " RelationRecord(items=frozenset({'herb & pepper', 'mineral water', 'ground beef'}), support=0.006665777896280496, ordered_statistics=[OrderedStatistic(items_base=frozenset({'herb & pepper', 'mineral water'}), items_add=frozenset({'ground beef'}), confidence=0.39062500000000006, lift=3.975682666214383)]),\n",
       " RelationRecord(items=frozenset({'herb & pepper', 'ground beef', 'nan'}), support=0.015997866951073192, ordered_statistics=[OrderedStatistic(items_base=frozenset({'herb & pepper', 'nan'}), items_add=frozenset({'ground beef'}), confidence=0.3234501347708895, lift=3.2919938411349285)]),\n",
       " RelationRecord(items=frozenset({'herb & pepper', 'spaghetti', 'ground beef'}), support=0.006399146780429276, ordered_statistics=[OrderedStatistic(items_base=frozenset({'herb & pepper', 'spaghetti'}), items_add=frozenset({'ground beef'}), confidence=0.3934426229508197, lift=4.004359721511667)]),\n",
       " RelationRecord(items=frozenset({'olive oil', 'ground beef', 'milk'}), support=0.004932675643247567, ordered_statistics=[OrderedStatistic(items_base=frozenset({'ground beef', 'milk'}), items_add=frozenset({'olive oil'}), confidence=0.22424242424242427, lift=3.40494417862839)]),\n",
       " RelationRecord(items=frozenset({'soup', 'ground beef', 'milk'}), support=0.003999466737768298, ordered_statistics=[OrderedStatistic(items_base=frozenset({'soup', 'ground beef'}), items_add=frozenset({'milk'}), confidence=0.4109589041095891, lift=3.1714019956029094)]),\n",
       " RelationRecord(items=frozenset({'tomato sauce', 'ground beef', 'nan'}), support=0.005332622317024397, ordered_statistics=[OrderedStatistic(items_base=frozenset({'tomato sauce', 'nan'}), items_add=frozenset({'ground beef'}), confidence=0.3773584905660377, lift=3.840659481324083)]),\n",
       " RelationRecord(items=frozenset({'spaghetti', 'ground beef', 'pepper'}), support=0.003332888948140248, ordered_statistics=[OrderedStatistic(items_base=frozenset({'spaghetti', 'pepper'}), items_add=frozenset({'ground beef'}), confidence=0.33783783783783783, lift=3.4384282518610876)]),\n",
       " RelationRecord(items=frozenset({'shrimp', 'spaghetti', 'ground beef'}), support=0.005999200106652446, ordered_statistics=[OrderedStatistic(items_base=frozenset({'shrimp', 'ground beef'}), items_add=frozenset({'spaghetti'}), confidence=0.5232558139534884, lift=3.005315360233627)]),\n",
       " RelationRecord(items=frozenset({'spaghetti', 'ground beef', 'tomato sauce'}), support=0.0030662578322890282, ordered_statistics=[OrderedStatistic(items_base=frozenset({'ground beef', 'tomato sauce'}), items_add=frozenset({'spaghetti'}), confidence=0.5750000000000001, lift=3.3025076569678413), OrderedStatistic(items_base=frozenset({'spaghetti', 'tomato sauce'}), items_add=frozenset({'ground beef'}), confidence=0.4893617021276596, lift=4.980599901844742)]),\n",
       " RelationRecord(items=frozenset({'nan', 'olive oil', 'light cream'}), support=0.003199573390214638, ordered_statistics=[OrderedStatistic(items_base=frozenset({'nan', 'light cream'}), items_add=frozenset({'olive oil'}), confidence=0.20512820512820515, lift=3.1147098515519573)]),\n",
       " RelationRecord(items=frozenset({'olive oil', 'shrimp', 'milk'}), support=0.003199573390214638, ordered_statistics=[OrderedStatistic(items_base=frozenset({'olive oil', 'shrimp'}), items_add=frozenset({'milk'}), confidence=0.3934426229508197, lift=3.0362274843149164)]),\n",
       " RelationRecord(items=frozenset({'olive oil', 'soup', 'milk'}), support=0.0035995200639914677, ordered_statistics=[OrderedStatistic(items_base=frozenset({'olive oil', 'milk'}), items_add=frozenset({'soup'}), confidence=0.2109375, lift=4.174781497361478), OrderedStatistic(items_base=frozenset({'soup', 'milk'}), items_add=frozenset({'olive oil'}), confidence=0.23684210526315788, lift=3.5962603878116344), OrderedStatistic(items_base=frozenset({'olive oil', 'soup'}), items_add=frozenset({'milk'}), confidence=0.4029850746268656, lift=3.1098673300165833)]),\n",
       " RelationRecord(items=frozenset({'olive oil', 'spaghetti', 'milk'}), support=0.007199040127982935, ordered_statistics=[OrderedStatistic(items_base=frozenset({'spaghetti', 'milk'}), items_add=frozenset({'olive oil'}), confidence=0.20300751879699247, lift=3.0825089038385434)]),\n",
       " RelationRecord(items=frozenset({'soup', 'tomatoes', 'milk'}), support=0.0030662578322890282, ordered_statistics=[OrderedStatistic(items_base=frozenset({'tomatoes', 'milk'}), items_add=frozenset({'soup'}), confidence=0.21904761904761905, lift=4.335293378565146), OrderedStatistic(items_base=frozenset({'soup', 'tomatoes'}), items_add=frozenset({'milk'}), confidence=0.44230769230769235, lift=3.4133230452674903)]),\n",
       " RelationRecord(items=frozenset({'spaghetti', 'whole wheat pasta', 'milk'}), support=0.003999466737768298, ordered_statistics=[OrderedStatistic(items_base=frozenset({'spaghetti', 'whole wheat pasta'}), items_add=frozenset({'milk'}), confidence=0.4545454545454546, lift=3.5077628133183696)]),\n",
       " RelationRecord(items=frozenset({'olive oil', 'mineral water', 'soup'}), support=0.005199306759098787, ordered_statistics=[OrderedStatistic(items_base=frozenset({'mineral water', 'soup'}), items_add=frozenset({'olive oil'}), confidence=0.22543352601156072, lift=3.4230301186492245)]),\n",
       " RelationRecord(items=frozenset({'olive oil', 'mineral water', 'whole wheat pasta'}), support=0.0038661511798426876, ordered_statistics=[OrderedStatistic(items_base=frozenset({'mineral water', 'whole wheat pasta'}), items_add=frozenset({'olive oil'}), confidence=0.4027777777777778, lift=6.115862573099416)]),\n",
       " RelationRecord(items=frozenset({'olive oil', 'whole wheat pasta', 'nan'}), support=0.007998933475536596, ordered_statistics=[OrderedStatistic(items_base=frozenset({'whole wheat pasta', 'nan'}), items_add=frozenset({'olive oil'}), confidence=0.2714932126696833, lift=4.122410097642296)]),\n",
       " RelationRecord(items=frozenset({'pasta', 'shrimp', 'nan'}), support=0.005065991201173177, ordered_statistics=[OrderedStatistic(items_base=frozenset({'pasta', 'nan'}), items_add=frozenset({'shrimp'}), confidence=0.3220338983050847, lift=4.506672147735896)]),\n",
       " RelationRecord(items=frozenset({'olive oil', 'pancakes', 'spaghetti'}), support=0.005065991201173177, ordered_statistics=[OrderedStatistic(items_base=frozenset({'pancakes', 'spaghetti'}), items_add=frozenset({'olive oil'}), confidence=0.20105820105820105, lift=3.0529100529100526)]),\n",
       " RelationRecord(items=frozenset({'olive oil', 'spaghetti', 'tomatoes'}), support=0.004399413411545127, ordered_statistics=[OrderedStatistic(items_base=frozenset({'olive oil', 'tomatoes'}), items_add=frozenset({'spaghetti'}), confidence=0.6111111111111112, lift=3.5099115194827295), OrderedStatistic(items_base=frozenset({'spaghetti', 'tomatoes'}), items_add=frozenset({'olive oil'}), confidence=0.21019108280254778, lift=3.19158565202816)]),\n",
       " RelationRecord(items=frozenset({'whole wheat rice', 'spaghetti', 'tomatoes'}), support=0.0030662578322890282, ordered_statistics=[OrderedStatistic(items_base=frozenset({'whole wheat rice', 'spaghetti'}), items_add=frozenset({'tomatoes'}), confidence=0.2169811320754717, lift=3.1726617382029496)]),\n",
       " RelationRecord(items=frozenset({'nan', 'spaghetti', 'avocado', 'milk'}), support=0.003332888948140248, ordered_statistics=[OrderedStatistic(items_base=frozenset({'spaghetti', 'avocado', 'nan'}), items_add=frozenset({'milk'}), confidence=0.41666666666666663, lift=3.215449245541838)]),\n",
       " RelationRecord(items=frozenset({'burgers', 'nan', 'cake', 'milk'}), support=0.0037328356219170776, ordered_statistics=[OrderedStatistic(items_base=frozenset({'nan', 'cake', 'milk'}), items_add=frozenset({'burgers'}), confidence=0.27999999999999997, lift=3.211437308868501)]),\n",
       " RelationRecord(items=frozenset({'burgers', 'chocolate', 'turkey', 'nan'}), support=0.0030662578322890282, ordered_statistics=[OrderedStatistic(items_base=frozenset({'chocolate', 'turkey', 'nan'}), items_add=frozenset({'burgers'}), confidence=0.27058823529411763, lift=3.1034898363014927)]),\n",
       " RelationRecord(items=frozenset({'burgers', 'nan', 'turkey', 'milk'}), support=0.003199573390214638, ordered_statistics=[OrderedStatistic(items_base=frozenset({'nan', 'turkey', 'milk'}), items_add=frozenset({'burgers'}), confidence=0.2823529411764706, lift=3.2384241770102533)]),\n",
       " RelationRecord(items=frozenset({'tomatoes', 'cake', 'frozen vegetables', 'nan'}), support=0.0030662578322890282, ordered_statistics=[OrderedStatistic(items_base=frozenset({'cake', 'frozen vegetables', 'nan'}), items_add=frozenset({'tomatoes'}), confidence=0.2987012987012987, lift=4.367560314928736), OrderedStatistic(items_base=frozenset({'cake', 'tomatoes', 'nan'}), items_add=frozenset({'frozen vegetables'}), confidence=0.36507936507936506, lift=3.8300144300144296)]),\n",
       " RelationRecord(items=frozenset({'cereals', 'spaghetti', 'ground beef', 'nan'}), support=0.0030662578322890282, ordered_statistics=[OrderedStatistic(items_base=frozenset({'cereals', 'ground beef', 'nan'}), items_add=frozenset({'spaghetti'}), confidence=0.6764705882352942, lift=3.8853031258445188), OrderedStatistic(items_base=frozenset({'cereals', 'spaghetti', 'nan'}), items_add=frozenset({'ground beef'}), confidence=0.45999999999999996, lift=4.681763907734057)]),\n",
       " RelationRecord(items=frozenset({'nan', 'chicken', 'ground beef', 'milk'}), support=0.0038661511798426876, ordered_statistics=[OrderedStatistic(items_base=frozenset({'chicken', 'ground beef', 'nan'}), items_add=frozenset({'milk'}), confidence=0.40845070422535207, lift=3.152046020981858)]),\n",
       " RelationRecord(items=frozenset({'nan', 'olive oil', 'chicken', 'milk'}), support=0.0035995200639914677, ordered_statistics=[OrderedStatistic(items_base=frozenset({'nan', 'chicken', 'milk'}), items_add=frozenset({'olive oil'}), confidence=0.24324324324324323, lift=3.693456614509246), OrderedStatistic(items_base=frozenset({'olive oil', 'chicken', 'nan'}), items_add=frozenset({'milk'}), confidence=0.5, lift=3.858539094650206), OrderedStatistic(items_base=frozenset({'nan', 'olive oil', 'milk'}), items_add=frozenset({'chicken'}), confidence=0.2109375, lift=3.51609375)]),\n",
       " RelationRecord(items=frozenset({'olive oil', 'spaghetti', 'chicken', 'nan'}), support=0.0034662045060658577, ordered_statistics=[OrderedStatistic(items_base=frozenset({'spaghetti', 'chicken', 'nan'}), items_add=frozenset({'olive oil'}), confidence=0.20155038759689922, lift=3.0603835169318647)]),\n",
       " RelationRecord(items=frozenset({'chocolate', 'eggs', 'mineral water', 'ground beef'}), support=0.003999466737768298, ordered_statistics=[OrderedStatistic(items_base=frozenset({'chocolate', 'eggs', 'mineral water'}), items_add=frozenset({'ground beef'}), confidence=0.29702970297029707, lift=3.023093354111531)]),\n",
       " RelationRecord(items=frozenset({'chocolate', 'mineral water', 'frozen vegetables', 'ground beef'}), support=0.003332888948140248, ordered_statistics=[OrderedStatistic(items_base=frozenset({'chocolate', 'mineral water', 'frozen vegetables'}), items_add=frozenset({'ground beef'}), confidence=0.34246575342465757, lift=3.4855300087358976), OrderedStatistic(items_base=frozenset({'chocolate', 'mineral water', 'ground beef'}), items_add=frozenset({'frozen vegetables'}), confidence=0.30487804878048785, lift=3.1984478935698455)]),\n",
       " RelationRecord(items=frozenset({'chocolate', 'spaghetti', 'frozen vegetables', 'ground beef'}), support=0.0030662578322890282, ordered_statistics=[OrderedStatistic(items_base=frozenset({'chocolate', 'frozen vegetables', 'ground beef'}), items_add=frozenset({'spaghetti'}), confidence=0.5348837209302326, lift=3.0721001460165964), OrderedStatistic(items_base=frozenset({'chocolate', 'spaghetti', 'frozen vegetables'}), items_add=frozenset({'ground beef'}), confidence=0.3898305084745763, lift=3.967596531978015), OrderedStatistic(items_base=frozenset({'chocolate', 'spaghetti', 'ground beef'}), items_add=frozenset({'frozen vegetables'}), confidence=0.33333333333333337, lift=3.4969696969696975)]),\n",
       " RelationRecord(items=frozenset({'chocolate', 'mineral water', 'frozen vegetables', 'milk'}), support=0.003999466737768298, ordered_statistics=[OrderedStatistic(items_base=frozenset({'chocolate', 'mineral water', 'frozen vegetables'}), items_add=frozenset({'milk'}), confidence=0.4109589041095891, lift=3.1714019956029094)]),\n",
       " RelationRecord(items=frozenset({'chocolate', 'spaghetti', 'frozen vegetables', 'milk'}), support=0.0034662045060658577, ordered_statistics=[OrderedStatistic(items_base=frozenset({'chocolate', 'spaghetti', 'frozen vegetables'}), items_add=frozenset({'milk'}), confidence=0.44067796610169485, lift=3.4007463207086555), OrderedStatistic(items_base=frozenset({'chocolate', 'spaghetti', 'milk'}), items_add=frozenset({'frozen vegetables'}), confidence=0.3170731707317073, lift=3.3263858093126384)]),\n",
       " RelationRecord(items=frozenset({'chocolate', 'mineral water', 'frozen vegetables', 'shrimp'}), support=0.003199573390214638, ordered_statistics=[OrderedStatistic(items_base=frozenset({'chocolate', 'mineral water', 'frozen vegetables'}), items_add=frozenset({'shrimp'}), confidence=0.32876712328767127, lift=4.600899611531385), OrderedStatistic(items_base=frozenset({'chocolate', 'mineral water', 'shrimp'}), items_add=frozenset({'frozen vegetables'}), confidence=0.4210526315789474, lift=4.417224880382776)]),\n",
       " RelationRecord(items=frozenset({'chocolate', 'shrimp', 'frozen vegetables', 'nan'}), support=0.005332622317024397, ordered_statistics=[OrderedStatistic(items_base=frozenset({'chocolate', 'frozen vegetables', 'nan'}), items_add=frozenset({'shrimp'}), confidence=0.23255813953488375, lift=3.2545123221103784), OrderedStatistic(items_base=frozenset({'chocolate', 'shrimp', 'nan'}), items_add=frozenset({'frozen vegetables'}), confidence=0.29629629629629634, lift=3.1084175084175087)]),\n",
       " RelationRecord(items=frozenset({'chocolate', 'herb & pepper', 'ground beef', 'nan'}), support=0.003999466737768298, ordered_statistics=[OrderedStatistic(items_base=frozenset({'chocolate', 'herb & pepper', 'nan'}), items_add=frozenset({'ground beef'}), confidence=0.4411764705882354, lift=4.4901827759597746)]),\n",
       " RelationRecord(items=frozenset({'soup', 'chocolate', 'nan', 'milk'}), support=0.003999466737768298, ordered_statistics=[OrderedStatistic(items_base=frozenset({'chocolate', 'soup', 'nan'}), items_add=frozenset({'milk'}), confidence=0.3947368421052632, lift=3.0462150747238472)]),\n",
       " RelationRecord(items=frozenset({'chocolate', 'olive oil', 'mineral water', 'spaghetti'}), support=0.0038661511798426876, ordered_statistics=[OrderedStatistic(items_base=frozenset({'chocolate', 'mineral water', 'spaghetti'}), items_add=frozenset({'olive oil'}), confidence=0.2436974789915966, lift=3.700353825740822)]),\n",
       " RelationRecord(items=frozenset({'chocolate', 'mineral water', 'spaghetti', 'shrimp'}), support=0.0034662045060658577, ordered_statistics=[OrderedStatistic(items_base=frozenset({'chocolate', 'mineral water', 'spaghetti'}), items_add=frozenset({'shrimp'}), confidence=0.21848739495798317, lift=3.0576006522011783)]),\n",
       " RelationRecord(items=frozenset({'cooking oil', 'spaghetti', 'ground beef', 'nan'}), support=0.004799360085321957, ordered_statistics=[OrderedStatistic(items_base=frozenset({'cooking oil', 'ground beef', 'nan'}), items_add=frozenset({'spaghetti'}), confidence=0.5714285714285714, lift=3.2819951870487856), OrderedStatistic(items_base=frozenset({'cooking oil', 'spaghetti', 'nan'}), items_add=frozenset({'ground beef'}), confidence=0.3025210084033613, lift=3.0789824749438446)]),\n",
       " RelationRecord(items=frozenset({'eggs', 'mineral water', 'frozen vegetables', 'milk'}), support=0.0037328356219170776, ordered_statistics=[OrderedStatistic(items_base=frozenset({'eggs', 'mineral water', 'frozen vegetables'}), items_add=frozenset({'milk'}), confidence=0.411764705882353, lift=3.177620430888405)]),\n",
       " RelationRecord(items=frozenset({'eggs', 'herb & pepper', 'ground beef', 'nan'}), support=0.0041327822956939075, ordered_statistics=[OrderedStatistic(items_base=frozenset({'eggs', 'ground beef', 'nan'}), items_add=frozenset({'herb & pepper'}), confidence=0.2066666666666667, lift=4.178454627133872), OrderedStatistic(items_base=frozenset({'eggs', 'herb & pepper', 'nan'}), items_add=frozenset({'ground beef'}), confidence=0.3297872340425532, lift=3.3564912381997174)]),\n",
       " RelationRecord(items=frozenset({'eggs', 'red wine', 'spaghetti', 'nan'}), support=0.0037328356219170776, ordered_statistics=[OrderedStatistic(items_base=frozenset({'eggs', 'red wine', 'nan'}), items_add=frozenset({'spaghetti'}), confidence=0.5283018867924528, lift=3.0342974370828397)]),\n",
       " RelationRecord(items=frozenset({'french fries', 'herb & pepper', 'ground beef', 'nan'}), support=0.003199573390214638, ordered_statistics=[OrderedStatistic(items_base=frozenset({'french fries', 'ground beef', 'nan'}), items_add=frozenset({'herb & pepper'}), confidence=0.23076923076923078, lift=4.665768194070081), OrderedStatistic(items_base=frozenset({'french fries', 'herb & pepper', 'nan'}), items_add=frozenset({'ground beef'}), confidence=0.46153846153846156, lift=4.697421981004071)]),\n",
       " RelationRecord(items=frozenset({'mineral water', 'spaghetti', 'frozen smoothie', 'milk'}), support=0.003199573390214638, ordered_statistics=[OrderedStatistic(items_base=frozenset({'mineral water', 'spaghetti', 'frozen smoothie'}), items_add=frozenset({'milk'}), confidence=0.4705882352941177, lift=3.631566206729606), OrderedStatistic(items_base=frozenset({'mineral water', 'spaghetti', 'milk'}), items_add=frozenset({'frozen smoothie'}), confidence=0.2033898305084746, lift=3.211846565566459)]),\n",
       " RelationRecord(items=frozenset({'tomatoes', 'frozen vegetables', 'green tea', 'nan'}), support=0.003332888948140248, ordered_statistics=[OrderedStatistic(items_base=frozenset({'frozen vegetables', 'green tea', 'nan'}), items_add=frozenset({'tomatoes'}), confidence=0.2314814814814815, lift=3.38468341635983)]),\n",
       " RelationRecord(items=frozenset({'mineral water', 'frozen vegetables', 'ground beef', 'milk'}), support=0.0037328356219170776, ordered_statistics=[OrderedStatistic(items_base=frozenset({'mineral water', 'frozen vegetables', 'ground beef'}), items_add=frozenset({'milk'}), confidence=0.40579710144927533, lift=3.1315679608755294), OrderedStatistic(items_base=frozenset({'mineral water', 'frozen vegetables', 'milk'}), items_add=frozenset({'ground beef'}), confidence=0.3373493975903614, lift=3.4334570302921317), OrderedStatistic(items_base=frozenset({'mineral water', 'ground beef', 'milk'}), items_add=frozenset({'frozen vegetables'}), confidence=0.3373493975903614, lift=3.539101861993428)]),\n",
       " RelationRecord(items=frozenset({'spaghetti', 'frozen vegetables', 'ground beef', 'milk'}), support=0.0030662578322890282, ordered_statistics=[OrderedStatistic(items_base=frozenset({'frozen vegetables', 'ground beef', 'milk'}), items_add=frozenset({'spaghetti'}), confidence=0.5348837209302326, lift=3.0721001460165964), OrderedStatistic(items_base=frozenset({'spaghetti', 'frozen vegetables', 'milk'}), items_add=frozenset({'ground beef'}), confidence=0.3709677419354839, lift=3.7756160546242397), OrderedStatistic(items_base=frozenset({'spaghetti', 'ground beef', 'milk'}), items_add=frozenset({'frozen vegetables'}), confidence=0.3150684931506849, lift=3.305354919053549)]),\n",
       " RelationRecord(items=frozenset({'mineral water', 'spaghetti', 'frozen vegetables', 'ground beef'}), support=0.004399413411545127, ordered_statistics=[OrderedStatistic(items_base=frozenset({'mineral water', 'spaghetti', 'frozen vegetables'}), items_add=frozenset({'ground beef'}), confidence=0.3666666666666667, lift=3.7318407960199007)]),\n",
       " RelationRecord(items=frozenset({'spaghetti', 'frozen vegetables', 'ground beef', 'nan'}), support=0.008665511265164644, ordered_statistics=[OrderedStatistic(items_base=frozenset({'spaghetti', 'frozen vegetables', 'nan'}), items_add=frozenset({'ground beef'}), confidence=0.31100478468899523, lift=3.165328208890303)]),\n",
       " RelationRecord(items=frozenset({'olive oil', 'mineral water', 'frozen vegetables', 'milk'}), support=0.003332888948140248, ordered_statistics=[OrderedStatistic(items_base=frozenset({'mineral water', 'frozen vegetables', 'milk'}), items_add=frozenset({'olive oil'}), confidence=0.30120481927710846, lift=4.573557387444516), OrderedStatistic(items_base=frozenset({'olive oil', 'mineral water', 'frozen vegetables'}), items_add=frozenset({'milk'}), confidence=0.5102040816326531, lift=3.937284790459394), OrderedStatistic(items_base=frozenset({'olive oil', 'mineral water', 'milk'}), items_add=frozenset({'frozen vegetables'}), confidence=0.39062500000000006, lift=4.098011363636364)]),\n",
       " RelationRecord(items=frozenset({'mineral water', 'soup', 'frozen vegetables', 'milk'}), support=0.0030662578322890282, ordered_statistics=[OrderedStatistic(items_base=frozenset({'mineral water', 'frozen vegetables', 'milk'}), items_add=frozenset({'soup'}), confidence=0.27710843373493976, lift=5.484407286136631), OrderedStatistic(items_base=frozenset({'soup', 'frozen vegetables', 'milk'}), items_add=frozenset({'mineral water'}), confidence=0.7666666666666666, lift=3.21631245339299), OrderedStatistic(items_base=frozenset({'mineral water', 'soup', 'frozen vegetables'}), items_add=frozenset({'milk'}), confidence=0.6052631578947368, lift=4.670863114576565), OrderedStatistic(items_base=frozenset({'mineral water', 'soup', 'milk'}), items_add=frozenset({'frozen vegetables'}), confidence=0.35937500000000006, lift=3.7701704545454553)]),\n",
       " RelationRecord(items=frozenset({'mineral water', 'spaghetti', 'frozen vegetables', 'milk'}), support=0.004532728969470737, ordered_statistics=[OrderedStatistic(items_base=frozenset({'mineral water', 'spaghetti', 'milk'}), items_add=frozenset({'frozen vegetables'}), confidence=0.28813559322033894, lift=3.0228043143297376)]),\n",
       " RelationRecord(items=frozenset({'nan', 'olive oil', 'frozen vegetables', 'milk'}), support=0.004799360085321957, ordered_statistics=[OrderedStatistic(items_base=frozenset({'nan', 'frozen vegetables', 'milk'}), items_add=frozenset({'olive oil'}), confidence=0.20338983050847456, lift=3.088314005352364), OrderedStatistic(items_base=frozenset({'olive oil', 'frozen vegetables', 'nan'}), items_add=frozenset({'milk'}), confidence=0.4235294117647058, lift=3.2684095860566447)]),\n",
       " RelationRecord(items=frozenset({'nan', 'soup', 'frozen vegetables', 'milk'}), support=0.003999466737768298, ordered_statistics=[OrderedStatistic(items_base=frozenset({'soup', 'frozen vegetables', 'nan'}), items_add=frozenset({'milk'}), confidence=0.5, lift=3.858539094650206)]),\n",
       " RelationRecord(items=frozenset({'tomatoes', 'nan', 'frozen vegetables', 'milk'}), support=0.0041327822956939075, ordered_statistics=[OrderedStatistic(items_base=frozenset({'nan', 'tomatoes', 'milk'}), items_add=frozenset({'frozen vegetables'}), confidence=0.29523809523809524, lift=3.0973160173160172)]),\n",
       " RelationRecord(items=frozenset({'shrimp', 'mineral water', 'frozen vegetables', 'nan'}), support=0.007199040127982935, ordered_statistics=[OrderedStatistic(items_base=frozenset({'shrimp', 'mineral water', 'nan'}), items_add=frozenset({'frozen vegetables'}), confidence=0.3068181818181818, lift=3.218801652892562)]),\n",
       " RelationRecord(items=frozenset({'shrimp', 'mineral water', 'spaghetti', 'frozen vegetables'}), support=0.003332888948140248, ordered_statistics=[OrderedStatistic(items_base=frozenset({'mineral water', 'spaghetti', 'frozen vegetables'}), items_add=frozenset({'shrimp'}), confidence=0.2777777777777778, lift=3.8873341625207294), OrderedStatistic(items_base=frozenset({'shrimp', 'mineral water', 'spaghetti'}), items_add=frozenset({'frozen vegetables'}), confidence=0.39062500000000006, lift=4.098011363636364)]),\n",
       " RelationRecord(items=frozenset({'tomatoes', 'mineral water', 'spaghetti', 'frozen vegetables'}), support=0.0030662578322890282, ordered_statistics=[OrderedStatistic(items_base=frozenset({'mineral water', 'spaghetti', 'frozen vegetables'}), items_add=frozenset({'tomatoes'}), confidence=0.2555555555555556, lift=3.7366904916612524), OrderedStatistic(items_base=frozenset({'tomatoes', 'mineral water', 'frozen vegetables'}), items_add=frozenset({'spaghetti'}), confidence=0.5227272727272727, lift=3.0022796881525826), OrderedStatistic(items_base=frozenset({'mineral water', 'spaghetti', 'tomatoes'}), items_add=frozenset({'frozen vegetables'}), confidence=0.32857142857142857, lift=3.447012987012987)]),\n",
       " RelationRecord(items=frozenset({'olive oil', 'spaghetti', 'frozen vegetables', 'nan'}), support=0.005732568990801226, ordered_statistics=[OrderedStatistic(items_base=frozenset({'spaghetti', 'frozen vegetables', 'nan'}), items_add=frozenset({'olive oil'}), confidence=0.20574162679425836, lift=3.1240241752707125)]),\n",
       " RelationRecord(items=frozenset({'shrimp', 'spaghetti', 'frozen vegetables', 'nan'}), support=0.005999200106652446, ordered_statistics=[OrderedStatistic(items_base=frozenset({'spaghetti', 'frozen vegetables', 'nan'}), items_add=frozenset({'shrimp'}), confidence=0.21531100478468898, lift=3.0131489680782684)]),\n",
       " RelationRecord(items=frozenset({'tomatoes', 'shrimp', 'frozen vegetables', 'nan'}), support=0.003999466737768298, ordered_statistics=[OrderedStatistic(items_base=frozenset({'shrimp', 'frozen vegetables', 'nan'}), items_add=frozenset({'tomatoes'}), confidence=0.24000000000000002, lift=3.5092397660818717), OrderedStatistic(items_base=frozenset({'tomatoes', 'frozen vegetables', 'nan'}), items_add=frozenset({'shrimp'}), confidence=0.2479338842975207, lift=3.4696866905143704), OrderedStatistic(items_base=frozenset({'shrimp', 'tomatoes', 'nan'}), items_add=frozenset({'frozen vegetables'}), confidence=0.35714285714285715, lift=3.7467532467532467)]),\n",
       " RelationRecord(items=frozenset({'tomatoes', 'spaghetti', 'frozen vegetables', 'nan'}), support=0.006665777896280496, ordered_statistics=[OrderedStatistic(items_base=frozenset({'spaghetti', 'frozen vegetables', 'nan'}), items_add=frozenset({'tomatoes'}), confidence=0.23923444976076558, lift=3.4980460188216425), OrderedStatistic(items_base=frozenset({'spaghetti', 'tomatoes', 'nan'}), items_add=frozenset({'frozen vegetables'}), confidence=0.3184713375796179, lift=3.341053850607991)]),\n",
       " RelationRecord(items=frozenset({'grated cheese', 'spaghetti', 'ground beef', 'nan'}), support=0.005332622317024397, ordered_statistics=[OrderedStatistic(items_base=frozenset({'grated cheese', 'spaghetti', 'nan'}), items_add=frozenset({'ground beef'}), confidence=0.3225806451612903, lift=3.283144395325426)]),\n",
       " RelationRecord(items=frozenset({'tomatoes', 'ground beef', 'green tea', 'nan'}), support=0.0030662578322890282, ordered_statistics=[OrderedStatistic(items_base=frozenset({'ground beef', 'green tea', 'nan'}), items_add=frozenset({'tomatoes'}), confidence=0.2072072072072072, lift=3.0297490472929067)]),\n",
       " RelationRecord(items=frozenset({'nan', 'herb & pepper', 'ground beef', 'milk'}), support=0.0035995200639914677, ordered_statistics=[OrderedStatistic(items_base=frozenset({'nan', 'herb & pepper', 'milk'}), items_add=frozenset({'ground beef'}), confidence=0.3913043478260869, lift=3.9825968969382335)]),\n",
       " RelationRecord(items=frozenset({'herb & pepper', 'mineral water', 'ground beef', 'nan'}), support=0.006665777896280496, ordered_statistics=[OrderedStatistic(items_base=frozenset({'herb & pepper', 'mineral water', 'nan'}), items_add=frozenset({'ground beef'}), confidence=0.39062500000000006, lift=3.975682666214383)]),\n",
       " RelationRecord(items=frozenset({'herb & pepper', 'spaghetti', 'ground beef', 'nan'}), support=0.006399146780429276, ordered_statistics=[OrderedStatistic(items_base=frozenset({'herb & pepper', 'spaghetti', 'nan'}), items_add=frozenset({'ground beef'}), confidence=0.3934426229508197, lift=4.004359721511667)]),\n",
       " RelationRecord(items=frozenset({'nan', 'olive oil', 'ground beef', 'milk'}), support=0.004932675643247567, ordered_statistics=[OrderedStatistic(items_base=frozenset({'nan', 'ground beef', 'milk'}), items_add=frozenset({'olive oil'}), confidence=0.22424242424242427, lift=3.40494417862839)]),\n",
       " RelationRecord(items=frozenset({'nan', 'soup', 'ground beef', 'milk'}), support=0.003999466737768298, ordered_statistics=[OrderedStatistic(items_base=frozenset({'soup', 'ground beef', 'nan'}), items_add=frozenset({'milk'}), confidence=0.4109589041095891, lift=3.1714019956029094)]),\n",
       " RelationRecord(items=frozenset({'olive oil', 'mineral water', 'spaghetti', 'ground beef'}), support=0.0030662578322890282, ordered_statistics=[OrderedStatistic(items_base=frozenset({'olive oil', 'mineral water', 'spaghetti'}), items_add=frozenset({'ground beef'}), confidence=0.2987012987012987, lift=3.0401064335935435)]),\n",
       " RelationRecord(items=frozenset({'mineral water', 'spaghetti', 'tomatoes', 'ground beef'}), support=0.0030662578322890282, ordered_statistics=[OrderedStatistic(items_base=frozenset({'mineral water', 'tomatoes', 'ground beef'}), items_add=frozenset({'spaghetti'}), confidence=0.5609756097560976, lift=3.221958689724723), OrderedStatistic(items_base=frozenset({'mineral water', 'spaghetti', 'tomatoes'}), items_add=frozenset({'ground beef'}), confidence=0.32857142857142857, lift=3.344117076952898)]),\n",
       " RelationRecord(items=frozenset({'spaghetti', 'pepper', 'ground beef', 'nan'}), support=0.003332888948140248, ordered_statistics=[OrderedStatistic(items_base=frozenset({'spaghetti', 'pepper', 'nan'}), items_add=frozenset({'ground beef'}), confidence=0.33783783783783783, lift=3.4384282518610876)]),\n",
       " RelationRecord(items=frozenset({'shrimp', 'spaghetti', 'ground beef', 'nan'}), support=0.005999200106652446, ordered_statistics=[OrderedStatistic(items_base=frozenset({'shrimp', 'ground beef', 'nan'}), items_add=frozenset({'spaghetti'}), confidence=0.5232558139534884, lift=3.005315360233627)]),\n",
       " RelationRecord(items=frozenset({'tomato sauce', 'spaghetti', 'ground beef', 'nan'}), support=0.0030662578322890282, ordered_statistics=[OrderedStatistic(items_base=frozenset({'tomato sauce', 'ground beef', 'nan'}), items_add=frozenset({'spaghetti'}), confidence=0.5750000000000001, lift=3.3025076569678413), OrderedStatistic(items_base=frozenset({'spaghetti', 'tomato sauce', 'nan'}), items_add=frozenset({'ground beef'}), confidence=0.4893617021276596, lift=4.980599901844742)]),\n",
       " RelationRecord(items=frozenset({'olive oil', 'mineral water', 'spaghetti', 'milk'}), support=0.003332888948140248, ordered_statistics=[OrderedStatistic(items_base=frozenset({'mineral water', 'spaghetti', 'milk'}), items_add=frozenset({'olive oil'}), confidence=0.211864406779661, lift=3.216993755575379)]),\n",
       " RelationRecord(items=frozenset({'mineral water', 'spaghetti', 'tomatoes', 'milk'}), support=0.003332888948140248, ordered_statistics=[OrderedStatistic(items_base=frozenset({'mineral water', 'spaghetti', 'milk'}), items_add=frozenset({'tomatoes'}), confidence=0.211864406779661, lift=3.0978458387022165)]),\n",
       " RelationRecord(items=frozenset({'nan', 'olive oil', 'shrimp', 'milk'}), support=0.003199573390214638, ordered_statistics=[OrderedStatistic(items_base=frozenset({'olive oil', 'shrimp', 'nan'}), items_add=frozenset({'milk'}), confidence=0.39999999999999997, lift=3.0868312757201646)]),\n",
       " RelationRecord(items=frozenset({'nan', 'olive oil', 'soup', 'milk'}), support=0.0035995200639914677, ordered_statistics=[OrderedStatistic(items_base=frozenset({'nan', 'olive oil', 'milk'}), items_add=frozenset({'soup'}), confidence=0.2109375, lift=4.174781497361478), OrderedStatistic(items_base=frozenset({'nan', 'soup', 'milk'}), items_add=frozenset({'olive oil'}), confidence=0.23684210526315788, lift=3.5962603878116344), OrderedStatistic(items_base=frozenset({'olive oil', 'soup', 'nan'}), items_add=frozenset({'milk'}), confidence=0.4029850746268656, lift=3.1098673300165833)]),\n",
       " RelationRecord(items=frozenset({'nan', 'olive oil', 'spaghetti', 'milk'}), support=0.007199040127982935, ordered_statistics=[OrderedStatistic(items_base=frozenset({'nan', 'spaghetti', 'milk'}), items_add=frozenset({'olive oil'}), confidence=0.20300751879699247, lift=3.0825089038385434)]),\n",
       " RelationRecord(items=frozenset({'nan', 'soup', 'tomatoes', 'milk'}), support=0.0030662578322890282, ordered_statistics=[OrderedStatistic(items_base=frozenset({'nan', 'tomatoes', 'milk'}), items_add=frozenset({'soup'}), confidence=0.21904761904761905, lift=4.335293378565146), OrderedStatistic(items_base=frozenset({'soup', 'tomatoes', 'nan'}), items_add=frozenset({'milk'}), confidence=0.44230769230769235, lift=3.4133230452674903)]),\n",
       " RelationRecord(items=frozenset({'nan', 'spaghetti', 'whole wheat pasta', 'milk'}), support=0.003999466737768298, ordered_statistics=[OrderedStatistic(items_base=frozenset({'spaghetti', 'whole wheat pasta', 'nan'}), items_add=frozenset({'milk'}), confidence=0.4545454545454546, lift=3.5077628133183696)]),\n",
       " RelationRecord(items=frozenset({'olive oil', 'mineral water', 'soup', 'nan'}), support=0.005199306759098787, ordered_statistics=[OrderedStatistic(items_base=frozenset({'mineral water', 'soup', 'nan'}), items_add=frozenset({'olive oil'}), confidence=0.22543352601156072, lift=3.4230301186492245)]),\n",
       " RelationRecord(items=frozenset({'olive oil', 'mineral water', 'whole wheat pasta', 'nan'}), support=0.0038661511798426876, ordered_statistics=[OrderedStatistic(items_base=frozenset({'mineral water', 'whole wheat pasta', 'nan'}), items_add=frozenset({'olive oil'}), confidence=0.4027777777777778, lift=6.115862573099416)]),\n",
       " RelationRecord(items=frozenset({'olive oil', 'pancakes', 'spaghetti', 'nan'}), support=0.005065991201173177, ordered_statistics=[OrderedStatistic(items_base=frozenset({'pancakes', 'spaghetti', 'nan'}), items_add=frozenset({'olive oil'}), confidence=0.20105820105820105, lift=3.0529100529100526)]),\n",
       " RelationRecord(items=frozenset({'olive oil', 'spaghetti', 'tomatoes', 'nan'}), support=0.004399413411545127, ordered_statistics=[OrderedStatistic(items_base=frozenset({'olive oil', 'tomatoes', 'nan'}), items_add=frozenset({'spaghetti'}), confidence=0.6111111111111112, lift=3.5099115194827295), OrderedStatistic(items_base=frozenset({'spaghetti', 'tomatoes', 'nan'}), items_add=frozenset({'olive oil'}), confidence=0.21019108280254778, lift=3.19158565202816)]),\n",
       " RelationRecord(items=frozenset({'whole wheat rice', 'spaghetti', 'tomatoes', 'nan'}), support=0.0030662578322890282, ordered_statistics=[OrderedStatistic(items_base=frozenset({'whole wheat rice', 'spaghetti', 'nan'}), items_add=frozenset({'tomatoes'}), confidence=0.2169811320754717, lift=3.1726617382029496)]),\n",
       " RelationRecord(items=frozenset({'eggs', 'chocolate', 'nan', 'mineral water', 'ground beef'}), support=0.003999466737768298, ordered_statistics=[OrderedStatistic(items_base=frozenset({'chocolate', 'eggs', 'mineral water', 'nan'}), items_add=frozenset({'ground beef'}), confidence=0.29702970297029707, lift=3.023093354111531)]),\n",
       " RelationRecord(items=frozenset({'chocolate', 'nan', 'mineral water', 'frozen vegetables', 'ground beef'}), support=0.003332888948140248, ordered_statistics=[OrderedStatistic(items_base=frozenset({'chocolate', 'mineral water', 'frozen vegetables', 'nan'}), items_add=frozenset({'ground beef'}), confidence=0.34246575342465757, lift=3.4855300087358976), OrderedStatistic(items_base=frozenset({'chocolate', 'mineral water', 'ground beef', 'nan'}), items_add=frozenset({'frozen vegetables'}), confidence=0.30487804878048785, lift=3.1984478935698455)]),\n",
       " RelationRecord(items=frozenset({'spaghetti', 'chocolate', 'nan', 'frozen vegetables', 'ground beef'}), support=0.0030662578322890282, ordered_statistics=[OrderedStatistic(items_base=frozenset({'chocolate', 'frozen vegetables', 'ground beef', 'nan'}), items_add=frozenset({'spaghetti'}), confidence=0.5348837209302326, lift=3.0721001460165964), OrderedStatistic(items_base=frozenset({'chocolate', 'spaghetti', 'frozen vegetables', 'nan'}), items_add=frozenset({'ground beef'}), confidence=0.3898305084745763, lift=3.967596531978015), OrderedStatistic(items_base=frozenset({'chocolate', 'spaghetti', 'ground beef', 'nan'}), items_add=frozenset({'frozen vegetables'}), confidence=0.33333333333333337, lift=3.4969696969696975)]),\n",
       " RelationRecord(items=frozenset({'chocolate', 'nan', 'mineral water', 'frozen vegetables', 'milk'}), support=0.003999466737768298, ordered_statistics=[OrderedStatistic(items_base=frozenset({'chocolate', 'mineral water', 'frozen vegetables', 'nan'}), items_add=frozenset({'milk'}), confidence=0.4109589041095891, lift=3.1714019956029094)]),\n",
       " RelationRecord(items=frozenset({'spaghetti', 'chocolate', 'nan', 'frozen vegetables', 'milk'}), support=0.0034662045060658577, ordered_statistics=[OrderedStatistic(items_base=frozenset({'chocolate', 'spaghetti', 'frozen vegetables', 'nan'}), items_add=frozenset({'milk'}), confidence=0.44067796610169485, lift=3.4007463207086555), OrderedStatistic(items_base=frozenset({'chocolate', 'nan', 'spaghetti', 'milk'}), items_add=frozenset({'frozen vegetables'}), confidence=0.3170731707317073, lift=3.3263858093126384)]),\n",
       " RelationRecord(items=frozenset({'chocolate', 'nan', 'mineral water', 'frozen vegetables', 'shrimp'}), support=0.003199573390214638, ordered_statistics=[OrderedStatistic(items_base=frozenset({'chocolate', 'mineral water', 'frozen vegetables', 'nan'}), items_add=frozenset({'shrimp'}), confidence=0.32876712328767127, lift=4.600899611531385), OrderedStatistic(items_base=frozenset({'shrimp', 'chocolate', 'mineral water', 'nan'}), items_add=frozenset({'frozen vegetables'}), confidence=0.4210526315789474, lift=4.417224880382776)]),\n",
       " RelationRecord(items=frozenset({'spaghetti', 'chocolate', 'olive oil', 'nan', 'mineral water'}), support=0.0038661511798426876, ordered_statistics=[OrderedStatistic(items_base=frozenset({'chocolate', 'mineral water', 'spaghetti', 'nan'}), items_add=frozenset({'olive oil'}), confidence=0.2436974789915966, lift=3.700353825740822)]),\n",
       " RelationRecord(items=frozenset({'spaghetti', 'chocolate', 'nan', 'mineral water', 'shrimp'}), support=0.0034662045060658577, ordered_statistics=[OrderedStatistic(items_base=frozenset({'chocolate', 'mineral water', 'spaghetti', 'nan'}), items_add=frozenset({'shrimp'}), confidence=0.21848739495798317, lift=3.0576006522011783)]),\n",
       " RelationRecord(items=frozenset({'eggs', 'nan', 'mineral water', 'frozen vegetables', 'milk'}), support=0.0037328356219170776, ordered_statistics=[OrderedStatistic(items_base=frozenset({'eggs', 'mineral water', 'frozen vegetables', 'nan'}), items_add=frozenset({'milk'}), confidence=0.411764705882353, lift=3.177620430888405)]),\n",
       " RelationRecord(items=frozenset({'spaghetti', 'nan', 'mineral water', 'frozen smoothie', 'milk'}), support=0.003199573390214638, ordered_statistics=[OrderedStatistic(items_base=frozenset({'mineral water', 'spaghetti', 'frozen smoothie', 'nan'}), items_add=frozenset({'milk'}), confidence=0.4705882352941177, lift=3.631566206729606), OrderedStatistic(items_base=frozenset({'nan', 'mineral water', 'spaghetti', 'milk'}), items_add=frozenset({'frozen smoothie'}), confidence=0.2033898305084746, lift=3.211846565566459)]),\n",
       " RelationRecord(items=frozenset({'nan', 'mineral water', 'frozen vegetables', 'ground beef', 'milk'}), support=0.0037328356219170776, ordered_statistics=[OrderedStatistic(items_base=frozenset({'mineral water', 'frozen vegetables', 'ground beef', 'nan'}), items_add=frozenset({'milk'}), confidence=0.40579710144927533, lift=3.1315679608755294), OrderedStatistic(items_base=frozenset({'nan', 'mineral water', 'frozen vegetables', 'milk'}), items_add=frozenset({'ground beef'}), confidence=0.3373493975903614, lift=3.4334570302921317), OrderedStatistic(items_base=frozenset({'nan', 'mineral water', 'ground beef', 'milk'}), items_add=frozenset({'frozen vegetables'}), confidence=0.3373493975903614, lift=3.539101861993428)]),\n",
       " RelationRecord(items=frozenset({'spaghetti', 'nan', 'frozen vegetables', 'ground beef', 'milk'}), support=0.0030662578322890282, ordered_statistics=[OrderedStatistic(items_base=frozenset({'nan', 'frozen vegetables', 'ground beef', 'milk'}), items_add=frozenset({'spaghetti'}), confidence=0.5348837209302326, lift=3.0721001460165964), OrderedStatistic(items_base=frozenset({'nan', 'spaghetti', 'frozen vegetables', 'milk'}), items_add=frozenset({'ground beef'}), confidence=0.3709677419354839, lift=3.7756160546242397), OrderedStatistic(items_base=frozenset({'nan', 'spaghetti', 'ground beef', 'milk'}), items_add=frozenset({'frozen vegetables'}), confidence=0.3150684931506849, lift=3.305354919053549)]),\n",
       " RelationRecord(items=frozenset({'spaghetti', 'nan', 'mineral water', 'frozen vegetables', 'ground beef'}), support=0.004399413411545127, ordered_statistics=[OrderedStatistic(items_base=frozenset({'mineral water', 'spaghetti', 'frozen vegetables', 'nan'}), items_add=frozenset({'ground beef'}), confidence=0.3666666666666667, lift=3.7318407960199007)]),\n",
       " RelationRecord(items=frozenset({'olive oil', 'nan', 'mineral water', 'frozen vegetables', 'milk'}), support=0.003332888948140248, ordered_statistics=[OrderedStatistic(items_base=frozenset({'nan', 'mineral water', 'frozen vegetables', 'milk'}), items_add=frozenset({'olive oil'}), confidence=0.30120481927710846, lift=4.573557387444516), OrderedStatistic(items_base=frozenset({'olive oil', 'mineral water', 'frozen vegetables', 'nan'}), items_add=frozenset({'milk'}), confidence=0.5102040816326531, lift=3.937284790459394), OrderedStatistic(items_base=frozenset({'nan', 'olive oil', 'mineral water', 'milk'}), items_add=frozenset({'frozen vegetables'}), confidence=0.39062500000000006, lift=4.098011363636364)]),\n",
       " RelationRecord(items=frozenset({'nan', 'mineral water', 'soup', 'frozen vegetables', 'milk'}), support=0.0030662578322890282, ordered_statistics=[OrderedStatistic(items_base=frozenset({'nan', 'mineral water', 'frozen vegetables', 'milk'}), items_add=frozenset({'soup'}), confidence=0.27710843373493976, lift=5.484407286136631), OrderedStatistic(items_base=frozenset({'nan', 'soup', 'frozen vegetables', 'milk'}), items_add=frozenset({'mineral water'}), confidence=0.7666666666666666, lift=3.21631245339299), OrderedStatistic(items_base=frozenset({'mineral water', 'soup', 'frozen vegetables', 'nan'}), items_add=frozenset({'milk'}), confidence=0.6052631578947368, lift=4.670863114576565), OrderedStatistic(items_base=frozenset({'nan', 'mineral water', 'soup', 'milk'}), items_add=frozenset({'frozen vegetables'}), confidence=0.35937500000000006, lift=3.7701704545454553)]),\n",
       " RelationRecord(items=frozenset({'spaghetti', 'nan', 'mineral water', 'frozen vegetables', 'milk'}), support=0.004532728969470737, ordered_statistics=[OrderedStatistic(items_base=frozenset({'nan', 'mineral water', 'spaghetti', 'milk'}), items_add=frozenset({'frozen vegetables'}), confidence=0.28813559322033894, lift=3.0228043143297376)]),\n",
       " RelationRecord(items=frozenset({'spaghetti', 'nan', 'mineral water', 'frozen vegetables', 'shrimp'}), support=0.003332888948140248, ordered_statistics=[OrderedStatistic(items_base=frozenset({'mineral water', 'spaghetti', 'frozen vegetables', 'nan'}), items_add=frozenset({'shrimp'}), confidence=0.2777777777777778, lift=3.8873341625207294), OrderedStatistic(items_base=frozenset({'shrimp', 'mineral water', 'spaghetti', 'nan'}), items_add=frozenset({'frozen vegetables'}), confidence=0.39062500000000006, lift=4.098011363636364)]),\n",
       " RelationRecord(items=frozenset({'spaghetti', 'nan', 'mineral water', 'frozen vegetables', 'tomatoes'}), support=0.0030662578322890282, ordered_statistics=[OrderedStatistic(items_base=frozenset({'mineral water', 'spaghetti', 'frozen vegetables', 'nan'}), items_add=frozenset({'tomatoes'}), confidence=0.2555555555555556, lift=3.7366904916612524), OrderedStatistic(items_base=frozenset({'tomatoes', 'mineral water', 'frozen vegetables', 'nan'}), items_add=frozenset({'spaghetti'}), confidence=0.5227272727272727, lift=3.0022796881525826), OrderedStatistic(items_base=frozenset({'mineral water', 'spaghetti', 'tomatoes', 'nan'}), items_add=frozenset({'frozen vegetables'}), confidence=0.32857142857142857, lift=3.447012987012987)]),\n",
       " RelationRecord(items=frozenset({'spaghetti', 'olive oil', 'nan', 'mineral water', 'ground beef'}), support=0.0030662578322890282, ordered_statistics=[OrderedStatistic(items_base=frozenset({'olive oil', 'mineral water', 'spaghetti', 'nan'}), items_add=frozenset({'ground beef'}), confidence=0.2987012987012987, lift=3.0401064335935435)]),\n",
       " RelationRecord(items=frozenset({'spaghetti', 'nan', 'mineral water', 'ground beef', 'tomatoes'}), support=0.0030662578322890282, ordered_statistics=[OrderedStatistic(items_base=frozenset({'mineral water', 'tomatoes', 'ground beef', 'nan'}), items_add=frozenset({'spaghetti'}), confidence=0.5609756097560976, lift=3.221958689724723), OrderedStatistic(items_base=frozenset({'mineral water', 'spaghetti', 'tomatoes', 'nan'}), items_add=frozenset({'ground beef'}), confidence=0.32857142857142857, lift=3.344117076952898)]),\n",
       " RelationRecord(items=frozenset({'spaghetti', 'olive oil', 'nan', 'mineral water', 'milk'}), support=0.003332888948140248, ordered_statistics=[OrderedStatistic(items_base=frozenset({'nan', 'mineral water', 'spaghetti', 'milk'}), items_add=frozenset({'olive oil'}), confidence=0.211864406779661, lift=3.216993755575379)]),\n",
       " RelationRecord(items=frozenset({'spaghetti', 'nan', 'mineral water', 'milk', 'tomatoes'}), support=0.003332888948140248, ordered_statistics=[OrderedStatistic(items_base=frozenset({'nan', 'mineral water', 'spaghetti', 'milk'}), items_add=frozenset({'tomatoes'}), confidence=0.211864406779661, lift=3.0978458387022165)])]"
      ]
     },
     "execution_count": 37,
     "metadata": {},
     "output_type": "execute_result"
    }
   ],
   "source": [
    "result = list(rule) # returns a non-tabular output\n",
    "result"
   ]
  },
  {
   "cell_type": "markdown",
   "metadata": {},
   "source": [
    "![Machine Learning Project](https://user-images.githubusercontent.com/7065401/52071927-c1cd7100-2562-11e9-908a-dde91ba14e59.png)"
   ]
  },
  {
   "cell_type": "markdown",
   "metadata": {},
   "source": [
    "<b>©</b>Amir Ali"
   ]
  }
 ],
 "metadata": {
  "kernelspec": {
   "display_name": "Python 3 (ipykernel)",
   "language": "python",
   "name": "python3"
  },
  "language_info": {
   "codemirror_mode": {
    "name": "ipython",
    "version": 3
   },
   "file_extension": ".py",
   "mimetype": "text/x-python",
   "name": "python",
   "nbconvert_exporter": "python",
   "pygments_lexer": "ipython3",
   "version": "3.9.7"
  }
 },
 "nbformat": 4,
 "nbformat_minor": 2
}
