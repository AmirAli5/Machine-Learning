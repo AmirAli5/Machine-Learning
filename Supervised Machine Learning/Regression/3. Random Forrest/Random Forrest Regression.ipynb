{
 "cells": [
  {
   "cell_type": "markdown",
   "metadata": {},
   "source": [
    "![Cover](https://pbs.twimg.com/media/FZ_BNTOXwAA00Mw?format=jpg&name=medium)"
   ]
  },
  {
   "cell_type": "markdown",
   "metadata": {},
   "source": [
    "Random Forest Regression is a supervised learning algorithm that uses ensemble learning method for regression. Ensemble learning method is a technique that combines predictions from multiple machine learning algorithms to make a more accurate prediction than a single model\n",
    "\n",
    "[Click to see my article on Random Forrest Regression](https://medium.com/machine-learning-researcher/random-forest-algorithm-in-machine-learning-b15906b33157)"
   ]
  },
  {
   "cell_type": "markdown",
   "metadata": {},
   "source": [
    "![Machine Learning Project](https://user-images.githubusercontent.com/7065401/52071927-c1cd7100-2562-11e9-908a-dde91ba14e59.png)"
   ]
  },
  {
   "cell_type": "markdown",
   "metadata": {},
   "source": [
    "## <font color = #950CDF> Part 1: </font> <font color = #4854E8> Information of Dataset </font>"
   ]
  },
  {
   "cell_type": "markdown",
   "metadata": {},
   "source": [
    "<b>Montreal bike lanes:</b> The dataset contains information about the number of bicycles that used certain bicycle lanes in Montreal in the year 2015. <br>\n",
    "\n",
    "https://www.kaggle.com/datasets/pablomonleon/montreal-bike-lanes"
   ]
  },
  {
   "cell_type": "markdown",
   "metadata": {},
   "source": [
    "![ML](https://user-images.githubusercontent.com/7065401/52071924-c003ad80-2562-11e9-8297-1c6595f8a7ff.png)"
   ]
  },
  {
   "cell_type": "markdown",
   "metadata": {},
   "source": [
    "### <font color = #27C3E5> 1.1: </font> <font color = #41EA46> Import Libraries and Dataset </font>"
   ]
  },
  {
   "cell_type": "markdown",
   "metadata": {},
   "source": [
    "#### <font color = blue> Import the Libraries"
   ]
  },
  {
   "cell_type": "code",
   "execution_count": 1,
   "metadata": {
    "pycharm": {
     "name": "#%%\n"
    }
   },
   "outputs": [],
   "source": [
    "import warnings\n",
    "import numpy as np\n",
    "import pandas as pd\n",
    "import seaborn as sns\n",
    "import matplotlib.pyplot as plt\n",
    "plt.style.use('fivethirtyeight')\n",
    "warnings.filterwarnings(\"ignore\")\n",
    "from sklearn.preprocessing import StandardScaler\n",
    "\n",
    "from sklearn.model_selection import train_test_split"
   ]
  },
  {
   "cell_type": "markdown",
   "metadata": {},
   "source": [
    "#### <font color = blue>Import the Dataset"
   ]
  },
  {
   "cell_type": "code",
   "execution_count": 2,
   "metadata": {
    "pycharm": {
     "name": "#%%\n"
    }
   },
   "outputs": [
    {
     "data": {
      "text/html": [
       "<div>\n",
       "<style scoped>\n",
       "    .dataframe tbody tr th:only-of-type {\n",
       "        vertical-align: middle;\n",
       "    }\n",
       "\n",
       "    .dataframe tbody tr th {\n",
       "        vertical-align: top;\n",
       "    }\n",
       "\n",
       "    .dataframe thead th {\n",
       "        text-align: right;\n",
       "    }\n",
       "</style>\n",
       "<table border=\"1\" class=\"dataframe\">\n",
       "  <thead>\n",
       "    <tr style=\"text-align: right;\">\n",
       "      <th></th>\n",
       "      <th>Date</th>\n",
       "      <th>Unnamed: 1</th>\n",
       "      <th>Berri1</th>\n",
       "      <th>Boyer</th>\n",
       "      <th>Brébeuf</th>\n",
       "      <th>CSC (Côte Sainte-Catherine)</th>\n",
       "      <th>Maisonneuve_1</th>\n",
       "      <th>Maisonneuve_2</th>\n",
       "      <th>Maisonneuve_3</th>\n",
       "      <th>Notre-Dame</th>\n",
       "      <th>...</th>\n",
       "      <th>Pont_Jacques_Cartier</th>\n",
       "      <th>Rachel / Hôtel de Ville</th>\n",
       "      <th>Rachel / Papineau</th>\n",
       "      <th>René-Lévesque</th>\n",
       "      <th>Saint-Antoine</th>\n",
       "      <th>Saint-Laurent U-Zelt Test</th>\n",
       "      <th>Saint-Urbain</th>\n",
       "      <th>Totem_Laurier</th>\n",
       "      <th>University</th>\n",
       "      <th>Viger</th>\n",
       "    </tr>\n",
       "  </thead>\n",
       "  <tbody>\n",
       "    <tr>\n",
       "      <th>0</th>\n",
       "      <td>01/01/2015</td>\n",
       "      <td>00:00</td>\n",
       "      <td>58</td>\n",
       "      <td>12</td>\n",
       "      <td>4</td>\n",
       "      <td>17</td>\n",
       "      <td>33.0</td>\n",
       "      <td>49</td>\n",
       "      <td>21</td>\n",
       "      <td>16</td>\n",
       "      <td>...</td>\n",
       "      <td>NaN</td>\n",
       "      <td>58</td>\n",
       "      <td>91</td>\n",
       "      <td>24</td>\n",
       "      <td>3</td>\n",
       "      <td>NaN</td>\n",
       "      <td>17</td>\n",
       "      <td>78</td>\n",
       "      <td>21</td>\n",
       "      <td>6</td>\n",
       "    </tr>\n",
       "    <tr>\n",
       "      <th>1</th>\n",
       "      <td>02/01/2015</td>\n",
       "      <td>00:00</td>\n",
       "      <td>75</td>\n",
       "      <td>7</td>\n",
       "      <td>5</td>\n",
       "      <td>15</td>\n",
       "      <td>30.0</td>\n",
       "      <td>113</td>\n",
       "      <td>27</td>\n",
       "      <td>9</td>\n",
       "      <td>...</td>\n",
       "      <td>NaN</td>\n",
       "      <td>109</td>\n",
       "      <td>177</td>\n",
       "      <td>32</td>\n",
       "      <td>13</td>\n",
       "      <td>NaN</td>\n",
       "      <td>11</td>\n",
       "      <td>57</td>\n",
       "      <td>77</td>\n",
       "      <td>4</td>\n",
       "    </tr>\n",
       "    <tr>\n",
       "      <th>2</th>\n",
       "      <td>03/01/2015</td>\n",
       "      <td>00:00</td>\n",
       "      <td>79</td>\n",
       "      <td>7</td>\n",
       "      <td>3</td>\n",
       "      <td>7</td>\n",
       "      <td>30.0</td>\n",
       "      <td>107</td>\n",
       "      <td>36</td>\n",
       "      <td>12</td>\n",
       "      <td>...</td>\n",
       "      <td>NaN</td>\n",
       "      <td>71</td>\n",
       "      <td>131</td>\n",
       "      <td>33</td>\n",
       "      <td>5</td>\n",
       "      <td>NaN</td>\n",
       "      <td>14</td>\n",
       "      <td>174</td>\n",
       "      <td>40</td>\n",
       "      <td>5</td>\n",
       "    </tr>\n",
       "    <tr>\n",
       "      <th>3</th>\n",
       "      <td>04/01/2015</td>\n",
       "      <td>00:00</td>\n",
       "      <td>10</td>\n",
       "      <td>1</td>\n",
       "      <td>21</td>\n",
       "      <td>0</td>\n",
       "      <td>10.0</td>\n",
       "      <td>35</td>\n",
       "      <td>29</td>\n",
       "      <td>1</td>\n",
       "      <td>...</td>\n",
       "      <td>NaN</td>\n",
       "      <td>6</td>\n",
       "      <td>11</td>\n",
       "      <td>6</td>\n",
       "      <td>1</td>\n",
       "      <td>NaN</td>\n",
       "      <td>1</td>\n",
       "      <td>20</td>\n",
       "      <td>6</td>\n",
       "      <td>0</td>\n",
       "    </tr>\n",
       "    <tr>\n",
       "      <th>4</th>\n",
       "      <td>05/01/2015</td>\n",
       "      <td>00:00</td>\n",
       "      <td>42</td>\n",
       "      <td>0</td>\n",
       "      <td>2</td>\n",
       "      <td>0</td>\n",
       "      <td>27.0</td>\n",
       "      <td>90</td>\n",
       "      <td>21</td>\n",
       "      <td>1</td>\n",
       "      <td>...</td>\n",
       "      <td>NaN</td>\n",
       "      <td>0</td>\n",
       "      <td>5</td>\n",
       "      <td>49</td>\n",
       "      <td>20</td>\n",
       "      <td>NaN</td>\n",
       "      <td>0</td>\n",
       "      <td>41</td>\n",
       "      <td>56</td>\n",
       "      <td>10</td>\n",
       "    </tr>\n",
       "  </tbody>\n",
       "</table>\n",
       "<p>5 rows × 23 columns</p>\n",
       "</div>"
      ],
      "text/plain": [
       "         Date Unnamed: 1  Berri1  Boyer  Brébeuf  CSC (Côte Sainte-Catherine)  \\\n",
       "0  01/01/2015      00:00      58     12        4                           17   \n",
       "1  02/01/2015      00:00      75      7        5                           15   \n",
       "2  03/01/2015      00:00      79      7        3                            7   \n",
       "3  04/01/2015      00:00      10      1       21                            0   \n",
       "4  05/01/2015      00:00      42      0        2                            0   \n",
       "\n",
       "   Maisonneuve_1  Maisonneuve_2  Maisonneuve_3  Notre-Dame  ...  \\\n",
       "0           33.0             49             21          16  ...   \n",
       "1           30.0            113             27           9  ...   \n",
       "2           30.0            107             36          12  ...   \n",
       "3           10.0             35             29           1  ...   \n",
       "4           27.0             90             21           1  ...   \n",
       "\n",
       "   Pont_Jacques_Cartier  Rachel / Hôtel de Ville  Rachel / Papineau  \\\n",
       "0                   NaN                       58                 91   \n",
       "1                   NaN                      109                177   \n",
       "2                   NaN                       71                131   \n",
       "3                   NaN                        6                 11   \n",
       "4                   NaN                        0                  5   \n",
       "\n",
       "   René-Lévesque  Saint-Antoine  Saint-Laurent U-Zelt Test  Saint-Urbain  \\\n",
       "0             24              3                        NaN            17   \n",
       "1             32             13                        NaN            11   \n",
       "2             33              5                        NaN            14   \n",
       "3              6              1                        NaN             1   \n",
       "4             49             20                        NaN             0   \n",
       "\n",
       "   Totem_Laurier  University  Viger  \n",
       "0             78          21      6  \n",
       "1             57          77      4  \n",
       "2            174          40      5  \n",
       "3             20           6      0  \n",
       "4             41          56     10  \n",
       "\n",
       "[5 rows x 23 columns]"
      ]
     },
     "execution_count": 2,
     "metadata": {},
     "output_type": "execute_result"
    }
   ],
   "source": [
    "df = pd.read_csv(\"Dataset/comptagesvelo2015.csv\")\n",
    "df.head()"
   ]
  },
  {
   "cell_type": "markdown",
   "metadata": {},
   "source": [
    "### <font color = #27C3E5> 1.2: </font> <font color = #41EA46> Data Summary and Visualization</font>"
   ]
  },
  {
   "cell_type": "markdown",
   "metadata": {},
   "source": [
    "#### <font color = blue>Data shape"
   ]
  },
  {
   "cell_type": "code",
   "execution_count": 3,
   "metadata": {
    "pycharm": {
     "name": "#%%\n"
    }
   },
   "outputs": [
    {
     "name": "stdout",
     "output_type": "stream",
     "text": [
      "Number of columns: 23\n",
      "Number of rows:  319\n"
     ]
    }
   ],
   "source": [
    "print(\"Number of columns:\", df.shape[1])\n",
    "print(\"Number of rows: \", df.shape[0])"
   ]
  },
  {
   "cell_type": "markdown",
   "metadata": {},
   "source": [
    "#### <font color = blue>Data Info"
   ]
  },
  {
   "cell_type": "code",
   "execution_count": 4,
   "metadata": {},
   "outputs": [
    {
     "name": "stdout",
     "output_type": "stream",
     "text": [
      "<class 'pandas.core.frame.DataFrame'>\n",
      "RangeIndex: 319 entries, 0 to 318\n",
      "Data columns (total 23 columns):\n",
      " #   Column                       Non-Null Count  Dtype  \n",
      "---  ------                       --------------  -----  \n",
      " 0   Date                         319 non-null    object \n",
      " 1   Unnamed: 1                   319 non-null    object \n",
      " 2   Berri1                       319 non-null    int64  \n",
      " 3   Boyer                        319 non-null    int64  \n",
      " 4   Brébeuf                      319 non-null    int64  \n",
      " 5   CSC (Côte Sainte-Catherine)  319 non-null    int64  \n",
      " 6   Maisonneuve_1                62 non-null     float64\n",
      " 7   Maisonneuve_2                319 non-null    int64  \n",
      " 8   Maisonneuve_3                319 non-null    int64  \n",
      " 9   Notre-Dame                   319 non-null    int64  \n",
      " 10  Parc                         319 non-null    int64  \n",
      " 11  Parc U-Zelt Test             52 non-null     float64\n",
      " 12  PierDup                      319 non-null    int64  \n",
      " 13  Pont_Jacques_Cartier         209 non-null    float64\n",
      " 14  Rachel / Hôtel de Ville      319 non-null    int64  \n",
      " 15  Rachel / Papineau            319 non-null    int64  \n",
      " 16  René-Lévesque                319 non-null    int64  \n",
      " 17  Saint-Antoine                319 non-null    int64  \n",
      " 18  Saint-Laurent U-Zelt Test    50 non-null     float64\n",
      " 19  Saint-Urbain                 319 non-null    int64  \n",
      " 20  Totem_Laurier                319 non-null    int64  \n",
      " 21  University                   319 non-null    int64  \n",
      " 22  Viger                        319 non-null    int64  \n",
      "dtypes: float64(4), int64(17), object(2)\n",
      "memory usage: 57.4+ KB\n"
     ]
    }
   ],
   "source": [
    "df.info()"
   ]
  },
  {
   "cell_type": "markdown",
   "metadata": {},
   "source": [
    "#### <font color = blue>Data Description"
   ]
  },
  {
   "cell_type": "code",
   "execution_count": 5,
   "metadata": {},
   "outputs": [
    {
     "data": {
      "text/html": [
       "<div>\n",
       "<style scoped>\n",
       "    .dataframe tbody tr th:only-of-type {\n",
       "        vertical-align: middle;\n",
       "    }\n",
       "\n",
       "    .dataframe tbody tr th {\n",
       "        vertical-align: top;\n",
       "    }\n",
       "\n",
       "    .dataframe thead th {\n",
       "        text-align: right;\n",
       "    }\n",
       "</style>\n",
       "<table border=\"1\" class=\"dataframe\">\n",
       "  <thead>\n",
       "    <tr style=\"text-align: right;\">\n",
       "      <th></th>\n",
       "      <th>Berri1</th>\n",
       "      <th>Boyer</th>\n",
       "      <th>Brébeuf</th>\n",
       "      <th>CSC (Côte Sainte-Catherine)</th>\n",
       "      <th>Maisonneuve_1</th>\n",
       "      <th>Maisonneuve_2</th>\n",
       "      <th>Maisonneuve_3</th>\n",
       "      <th>Notre-Dame</th>\n",
       "      <th>Parc</th>\n",
       "      <th>Parc U-Zelt Test</th>\n",
       "      <th>...</th>\n",
       "      <th>Pont_Jacques_Cartier</th>\n",
       "      <th>Rachel / Hôtel de Ville</th>\n",
       "      <th>Rachel / Papineau</th>\n",
       "      <th>René-Lévesque</th>\n",
       "      <th>Saint-Antoine</th>\n",
       "      <th>Saint-Laurent U-Zelt Test</th>\n",
       "      <th>Saint-Urbain</th>\n",
       "      <th>Totem_Laurier</th>\n",
       "      <th>University</th>\n",
       "      <th>Viger</th>\n",
       "    </tr>\n",
       "  </thead>\n",
       "  <tbody>\n",
       "    <tr>\n",
       "      <th>count</th>\n",
       "      <td>319.000000</td>\n",
       "      <td>319.000000</td>\n",
       "      <td>319.000000</td>\n",
       "      <td>319.000000</td>\n",
       "      <td>62.000000</td>\n",
       "      <td>319.000000</td>\n",
       "      <td>319.000000</td>\n",
       "      <td>319.000000</td>\n",
       "      <td>319.000000</td>\n",
       "      <td>52.000000</td>\n",
       "      <td>...</td>\n",
       "      <td>209.000000</td>\n",
       "      <td>319.000000</td>\n",
       "      <td>319.000000</td>\n",
       "      <td>319.000000</td>\n",
       "      <td>319.000000</td>\n",
       "      <td>50.000000</td>\n",
       "      <td>319.000000</td>\n",
       "      <td>319.000000</td>\n",
       "      <td>319.000000</td>\n",
       "      <td>319.000000</td>\n",
       "    </tr>\n",
       "    <tr>\n",
       "      <th>mean</th>\n",
       "      <td>2915.398119</td>\n",
       "      <td>2212.909091</td>\n",
       "      <td>2859.485893</td>\n",
       "      <td>1167.388715</td>\n",
       "      <td>89.935484</td>\n",
       "      <td>2208.031348</td>\n",
       "      <td>1011.175549</td>\n",
       "      <td>1137.316614</td>\n",
       "      <td>1754.257053</td>\n",
       "      <td>2090.250000</td>\n",
       "      <td>...</td>\n",
       "      <td>2164.578947</td>\n",
       "      <td>2207.626959</td>\n",
       "      <td>2939.294671</td>\n",
       "      <td>1477.206897</td>\n",
       "      <td>207.476489</td>\n",
       "      <td>4563.180000</td>\n",
       "      <td>1387.119122</td>\n",
       "      <td>1903.363636</td>\n",
       "      <td>2023.708464</td>\n",
       "      <td>295.347962</td>\n",
       "    </tr>\n",
       "    <tr>\n",
       "      <th>std</th>\n",
       "      <td>2276.281648</td>\n",
       "      <td>1832.808709</td>\n",
       "      <td>2337.531344</td>\n",
       "      <td>960.020397</td>\n",
       "      <td>51.886974</td>\n",
       "      <td>2452.475658</td>\n",
       "      <td>917.450049</td>\n",
       "      <td>991.065590</td>\n",
       "      <td>1415.004315</td>\n",
       "      <td>972.740577</td>\n",
       "      <td>...</td>\n",
       "      <td>1049.224968</td>\n",
       "      <td>1660.936427</td>\n",
       "      <td>2105.774880</td>\n",
       "      <td>1254.990855</td>\n",
       "      <td>231.009131</td>\n",
       "      <td>1667.554469</td>\n",
       "      <td>1070.781272</td>\n",
       "      <td>1376.375755</td>\n",
       "      <td>1632.368428</td>\n",
       "      <td>248.947624</td>\n",
       "    </tr>\n",
       "    <tr>\n",
       "      <th>min</th>\n",
       "      <td>10.000000</td>\n",
       "      <td>0.000000</td>\n",
       "      <td>0.000000</td>\n",
       "      <td>0.000000</td>\n",
       "      <td>10.000000</td>\n",
       "      <td>2.000000</td>\n",
       "      <td>8.000000</td>\n",
       "      <td>0.000000</td>\n",
       "      <td>0.000000</td>\n",
       "      <td>0.000000</td>\n",
       "      <td>...</td>\n",
       "      <td>0.000000</td>\n",
       "      <td>0.000000</td>\n",
       "      <td>5.000000</td>\n",
       "      <td>0.000000</td>\n",
       "      <td>0.000000</td>\n",
       "      <td>1554.000000</td>\n",
       "      <td>0.000000</td>\n",
       "      <td>20.000000</td>\n",
       "      <td>6.000000</td>\n",
       "      <td>0.000000</td>\n",
       "    </tr>\n",
       "    <tr>\n",
       "      <th>25%</th>\n",
       "      <td>387.500000</td>\n",
       "      <td>3.500000</td>\n",
       "      <td>33.000000</td>\n",
       "      <td>54.500000</td>\n",
       "      <td>46.500000</td>\n",
       "      <td>214.500000</td>\n",
       "      <td>119.000000</td>\n",
       "      <td>25.500000</td>\n",
       "      <td>61.000000</td>\n",
       "      <td>1275.000000</td>\n",
       "      <td>...</td>\n",
       "      <td>1221.000000</td>\n",
       "      <td>324.500000</td>\n",
       "      <td>513.000000</td>\n",
       "      <td>159.500000</td>\n",
       "      <td>15.500000</td>\n",
       "      <td>3097.250000</td>\n",
       "      <td>244.500000</td>\n",
       "      <td>457.000000</td>\n",
       "      <td>352.500000</td>\n",
       "      <td>47.000000</td>\n",
       "    </tr>\n",
       "    <tr>\n",
       "      <th>50%</th>\n",
       "      <td>3044.000000</td>\n",
       "      <td>2180.000000</td>\n",
       "      <td>3011.000000</td>\n",
       "      <td>1162.000000</td>\n",
       "      <td>85.000000</td>\n",
       "      <td>689.000000</td>\n",
       "      <td>1049.000000</td>\n",
       "      <td>1067.000000</td>\n",
       "      <td>1787.000000</td>\n",
       "      <td>2258.000000</td>\n",
       "      <td>...</td>\n",
       "      <td>2349.000000</td>\n",
       "      <td>2361.000000</td>\n",
       "      <td>3169.000000</td>\n",
       "      <td>1422.000000</td>\n",
       "      <td>107.000000</td>\n",
       "      <td>4825.500000</td>\n",
       "      <td>1519.000000</td>\n",
       "      <td>1855.000000</td>\n",
       "      <td>1762.000000</td>\n",
       "      <td>267.000000</td>\n",
       "    </tr>\n",
       "    <tr>\n",
       "      <th>75%</th>\n",
       "      <td>4968.000000</td>\n",
       "      <td>3937.000000</td>\n",
       "      <td>5088.000000</td>\n",
       "      <td>1948.000000</td>\n",
       "      <td>131.500000</td>\n",
       "      <td>4114.500000</td>\n",
       "      <td>1675.000000</td>\n",
       "      <td>2094.500000</td>\n",
       "      <td>3025.500000</td>\n",
       "      <td>2775.500000</td>\n",
       "      <td>...</td>\n",
       "      <td>2966.000000</td>\n",
       "      <td>3658.000000</td>\n",
       "      <td>4797.000000</td>\n",
       "      <td>2676.000000</td>\n",
       "      <td>337.000000</td>\n",
       "      <td>5957.750000</td>\n",
       "      <td>2237.000000</td>\n",
       "      <td>3111.000000</td>\n",
       "      <td>3539.000000</td>\n",
       "      <td>526.000000</td>\n",
       "    </tr>\n",
       "    <tr>\n",
       "      <th>max</th>\n",
       "      <td>7387.000000</td>\n",
       "      <td>6153.000000</td>\n",
       "      <td>7322.000000</td>\n",
       "      <td>3334.000000</td>\n",
       "      <td>207.000000</td>\n",
       "      <td>7905.000000</td>\n",
       "      <td>9999.000000</td>\n",
       "      <td>3035.000000</td>\n",
       "      <td>4867.000000</td>\n",
       "      <td>3997.000000</td>\n",
       "      <td>...</td>\n",
       "      <td>6014.000000</td>\n",
       "      <td>7921.000000</td>\n",
       "      <td>7695.000000</td>\n",
       "      <td>4118.000000</td>\n",
       "      <td>781.000000</td>\n",
       "      <td>7388.000000</td>\n",
       "      <td>4342.000000</td>\n",
       "      <td>5166.000000</td>\n",
       "      <td>5596.000000</td>\n",
       "      <td>820.000000</td>\n",
       "    </tr>\n",
       "  </tbody>\n",
       "</table>\n",
       "<p>8 rows × 21 columns</p>\n",
       "</div>"
      ],
      "text/plain": [
       "            Berri1        Boyer      Brébeuf  CSC (Côte Sainte-Catherine)  \\\n",
       "count   319.000000   319.000000   319.000000                   319.000000   \n",
       "mean   2915.398119  2212.909091  2859.485893                  1167.388715   \n",
       "std    2276.281648  1832.808709  2337.531344                   960.020397   \n",
       "min      10.000000     0.000000     0.000000                     0.000000   \n",
       "25%     387.500000     3.500000    33.000000                    54.500000   \n",
       "50%    3044.000000  2180.000000  3011.000000                  1162.000000   \n",
       "75%    4968.000000  3937.000000  5088.000000                  1948.000000   \n",
       "max    7387.000000  6153.000000  7322.000000                  3334.000000   \n",
       "\n",
       "       Maisonneuve_1  Maisonneuve_2  Maisonneuve_3   Notre-Dame         Parc  \\\n",
       "count      62.000000     319.000000     319.000000   319.000000   319.000000   \n",
       "mean       89.935484    2208.031348    1011.175549  1137.316614  1754.257053   \n",
       "std        51.886974    2452.475658     917.450049   991.065590  1415.004315   \n",
       "min        10.000000       2.000000       8.000000     0.000000     0.000000   \n",
       "25%        46.500000     214.500000     119.000000    25.500000    61.000000   \n",
       "50%        85.000000     689.000000    1049.000000  1067.000000  1787.000000   \n",
       "75%       131.500000    4114.500000    1675.000000  2094.500000  3025.500000   \n",
       "max       207.000000    7905.000000    9999.000000  3035.000000  4867.000000   \n",
       "\n",
       "       Parc U-Zelt Test  ...  Pont_Jacques_Cartier  Rachel / Hôtel de Ville  \\\n",
       "count         52.000000  ...            209.000000               319.000000   \n",
       "mean        2090.250000  ...           2164.578947              2207.626959   \n",
       "std          972.740577  ...           1049.224968              1660.936427   \n",
       "min            0.000000  ...              0.000000                 0.000000   \n",
       "25%         1275.000000  ...           1221.000000               324.500000   \n",
       "50%         2258.000000  ...           2349.000000              2361.000000   \n",
       "75%         2775.500000  ...           2966.000000              3658.000000   \n",
       "max         3997.000000  ...           6014.000000              7921.000000   \n",
       "\n",
       "       Rachel / Papineau  René-Lévesque  Saint-Antoine  \\\n",
       "count         319.000000     319.000000     319.000000   \n",
       "mean         2939.294671    1477.206897     207.476489   \n",
       "std          2105.774880    1254.990855     231.009131   \n",
       "min             5.000000       0.000000       0.000000   \n",
       "25%           513.000000     159.500000      15.500000   \n",
       "50%          3169.000000    1422.000000     107.000000   \n",
       "75%          4797.000000    2676.000000     337.000000   \n",
       "max          7695.000000    4118.000000     781.000000   \n",
       "\n",
       "       Saint-Laurent U-Zelt Test  Saint-Urbain  Totem_Laurier   University  \\\n",
       "count                  50.000000    319.000000     319.000000   319.000000   \n",
       "mean                 4563.180000   1387.119122    1903.363636  2023.708464   \n",
       "std                  1667.554469   1070.781272    1376.375755  1632.368428   \n",
       "min                  1554.000000      0.000000      20.000000     6.000000   \n",
       "25%                  3097.250000    244.500000     457.000000   352.500000   \n",
       "50%                  4825.500000   1519.000000    1855.000000  1762.000000   \n",
       "75%                  5957.750000   2237.000000    3111.000000  3539.000000   \n",
       "max                  7388.000000   4342.000000    5166.000000  5596.000000   \n",
       "\n",
       "            Viger  \n",
       "count  319.000000  \n",
       "mean   295.347962  \n",
       "std    248.947624  \n",
       "min      0.000000  \n",
       "25%     47.000000  \n",
       "50%    267.000000  \n",
       "75%    526.000000  \n",
       "max    820.000000  \n",
       "\n",
       "[8 rows x 21 columns]"
      ]
     },
     "execution_count": 5,
     "metadata": {},
     "output_type": "execute_result"
    }
   ],
   "source": [
    "df.describe()"
   ]
  },
  {
   "cell_type": "markdown",
   "metadata": {},
   "source": [
    "#### <font color = blue> Check the Correaltion of Features"
   ]
  },
  {
   "cell_type": "code",
   "execution_count": 6,
   "metadata": {},
   "outputs": [
    {
     "data": {
      "image/png": "[encoded data removed]",
      "text/plain": [
       "<Figure size 432x288 with 2 Axes>"
      ]
     },
     "metadata": {},
     "output_type": "display_data"
    }
   ],
   "source": [
    "# Define the figure size\n",
    "#plt.figure(figsize = (16, 9))\n",
    "\n",
    "# Cutomize the annot\n",
    "annot_kws={'fontsize':10,                      # To change the size of the font\n",
    "           'fontstyle':'italic',               # To change the style of font \n",
    "           'fontfamily': 'serif',              # To change the family of font \n",
    "           'alpha':1 }                         # To change the transparency of the text  \n",
    "\n",
    "\n",
    "# Customize the cbar\n",
    "cbar_kws = {\"shrink\":1,                        # To change the size of the color bar\n",
    "            'extend':'min',                    # To change the end of the color bar like pointed\n",
    "            'extendfrac':0.1,                  # To adjust the extension of the color bar\n",
    "            \"drawedges\":True,                  # To draw lines (edges) on the color bar\n",
    "           }\n",
    "\n",
    "# take upper correlation matrix\n",
    "matrix = np.triu(df.corr())\n",
    "\n",
    "# Generate heatmap correlation\n",
    "ax = sns.heatmap(df.corr(), mask = matrix, cmap = 'rainbow', annot = True, linewidth = 1.5 ,annot_kws= annot_kws, cbar_kws=cbar_kws)\n",
    "\n",
    "# Set the title etc\n",
    "plt.title('Correlation Matrix', fontsize = 20)\n",
    "\n",
    "# Set the size of text\n",
    "sns.set(font_scale = 1.2)"
   ]
  },
  {
   "cell_type": "markdown",
   "metadata": {},
   "source": [
    "![Machine Learning Project](https://user-images.githubusercontent.com/7065401/52071927-c1cd7100-2562-11e9-908a-dde91ba14e59.png)"
   ]
  },
  {
   "cell_type": "markdown",
   "metadata": {},
   "source": [
    "## <font color = #950CDF> Part 2: </font> <font color = #4854E8> Data Preprocessing </font>"
   ]
  },
  {
   "cell_type": "markdown",
   "metadata": {},
   "source": [
    "![ML](https://user-images.githubusercontent.com/7065401/52071924-c003ad80-2562-11e9-8297-1c6595f8a7ff.png)"
   ]
  },
  {
   "cell_type": "markdown",
   "metadata": {},
   "source": [
    "### <font color = #27C3E5> 2.1: </font> <font color = #41EA46> Check Missing Value </font>"
   ]
  },
  {
   "cell_type": "code",
   "execution_count": 7,
   "metadata": {
    "pycharm": {
     "name": "#%%\n"
    }
   },
   "outputs": [
    {
     "data": {
      "text/plain": [
       "Date                             0\n",
       "Unnamed: 1                       0\n",
       "Berri1                           0\n",
       "Boyer                            0\n",
       "Brébeuf                          0\n",
       "CSC (Côte Sainte-Catherine)      0\n",
       "Maisonneuve_1                  257\n",
       "Maisonneuve_2                    0\n",
       "Maisonneuve_3                    0\n",
       "Notre-Dame                       0\n",
       "Parc                             0\n",
       "Parc U-Zelt Test               267\n",
       "PierDup                          0\n",
       "Pont_Jacques_Cartier           110\n",
       "Rachel / Hôtel de Ville          0\n",
       "Rachel / Papineau                0\n",
       "René-Lévesque                    0\n",
       "Saint-Antoine                    0\n",
       "Saint-Laurent U-Zelt Test      269\n",
       "Saint-Urbain                     0\n",
       "Totem_Laurier                    0\n",
       "University                       0\n",
       "Viger                            0\n",
       "dtype: int64"
      ]
     },
     "execution_count": 7,
     "metadata": {},
     "output_type": "execute_result"
    }
   ],
   "source": [
    "df.isnull().sum()"
   ]
  },
  {
   "cell_type": "markdown",
   "metadata": {},
   "source": [
    "Too much missing value in three cols so we should have to remove those cols becuase we have only 319 rows data. we can apply mean strategy but not a good idea here in my opinion "
   ]
  },
  {
   "cell_type": "markdown",
   "metadata": {},
   "source": [
    "### <font color = #27C3E5> 2.2: </font> <font color = #41EA46> Remove Unwanted Columns </font>"
   ]
  },
  {
   "cell_type": "code",
   "execution_count": 8,
   "metadata": {},
   "outputs": [
    {
     "data": {
      "text/html": [
       "<div>\n",
       "<style scoped>\n",
       "    .dataframe tbody tr th:only-of-type {\n",
       "        vertical-align: middle;\n",
       "    }\n",
       "\n",
       "    .dataframe tbody tr th {\n",
       "        vertical-align: top;\n",
       "    }\n",
       "\n",
       "    .dataframe thead th {\n",
       "        text-align: right;\n",
       "    }\n",
       "</style>\n",
       "<table border=\"1\" class=\"dataframe\">\n",
       "  <thead>\n",
       "    <tr style=\"text-align: right;\">\n",
       "      <th></th>\n",
       "      <th>Berri1</th>\n",
       "      <th>Boyer</th>\n",
       "      <th>Brébeuf</th>\n",
       "      <th>CSC (Côte Sainte-Catherine)</th>\n",
       "      <th>Maisonneuve_2</th>\n",
       "      <th>Maisonneuve_3</th>\n",
       "      <th>Notre-Dame</th>\n",
       "      <th>Parc</th>\n",
       "      <th>PierDup</th>\n",
       "      <th>Rachel / Hôtel de Ville</th>\n",
       "      <th>Rachel / Papineau</th>\n",
       "      <th>René-Lévesque</th>\n",
       "      <th>Saint-Antoine</th>\n",
       "      <th>Saint-Urbain</th>\n",
       "      <th>Totem_Laurier</th>\n",
       "      <th>University</th>\n",
       "      <th>Viger</th>\n",
       "    </tr>\n",
       "  </thead>\n",
       "  <tbody>\n",
       "    <tr>\n",
       "      <th>0</th>\n",
       "      <td>58</td>\n",
       "      <td>12</td>\n",
       "      <td>4</td>\n",
       "      <td>17</td>\n",
       "      <td>49</td>\n",
       "      <td>21</td>\n",
       "      <td>16</td>\n",
       "      <td>16</td>\n",
       "      <td>7</td>\n",
       "      <td>58</td>\n",
       "      <td>91</td>\n",
       "      <td>24</td>\n",
       "      <td>3</td>\n",
       "      <td>17</td>\n",
       "      <td>78</td>\n",
       "      <td>21</td>\n",
       "      <td>6</td>\n",
       "    </tr>\n",
       "    <tr>\n",
       "      <th>1</th>\n",
       "      <td>75</td>\n",
       "      <td>7</td>\n",
       "      <td>5</td>\n",
       "      <td>15</td>\n",
       "      <td>113</td>\n",
       "      <td>27</td>\n",
       "      <td>9</td>\n",
       "      <td>32</td>\n",
       "      <td>11</td>\n",
       "      <td>109</td>\n",
       "      <td>177</td>\n",
       "      <td>32</td>\n",
       "      <td>13</td>\n",
       "      <td>11</td>\n",
       "      <td>57</td>\n",
       "      <td>77</td>\n",
       "      <td>4</td>\n",
       "    </tr>\n",
       "    <tr>\n",
       "      <th>2</th>\n",
       "      <td>79</td>\n",
       "      <td>7</td>\n",
       "      <td>3</td>\n",
       "      <td>7</td>\n",
       "      <td>107</td>\n",
       "      <td>36</td>\n",
       "      <td>12</td>\n",
       "      <td>18</td>\n",
       "      <td>2</td>\n",
       "      <td>71</td>\n",
       "      <td>131</td>\n",
       "      <td>33</td>\n",
       "      <td>5</td>\n",
       "      <td>14</td>\n",
       "      <td>174</td>\n",
       "      <td>40</td>\n",
       "      <td>5</td>\n",
       "    </tr>\n",
       "    <tr>\n",
       "      <th>3</th>\n",
       "      <td>10</td>\n",
       "      <td>1</td>\n",
       "      <td>21</td>\n",
       "      <td>0</td>\n",
       "      <td>35</td>\n",
       "      <td>29</td>\n",
       "      <td>1</td>\n",
       "      <td>0</td>\n",
       "      <td>0</td>\n",
       "      <td>6</td>\n",
       "      <td>11</td>\n",
       "      <td>6</td>\n",
       "      <td>1</td>\n",
       "      <td>1</td>\n",
       "      <td>20</td>\n",
       "      <td>6</td>\n",
       "      <td>0</td>\n",
       "    </tr>\n",
       "    <tr>\n",
       "      <th>4</th>\n",
       "      <td>42</td>\n",
       "      <td>0</td>\n",
       "      <td>2</td>\n",
       "      <td>0</td>\n",
       "      <td>90</td>\n",
       "      <td>21</td>\n",
       "      <td>1</td>\n",
       "      <td>1</td>\n",
       "      <td>6</td>\n",
       "      <td>0</td>\n",
       "      <td>5</td>\n",
       "      <td>49</td>\n",
       "      <td>20</td>\n",
       "      <td>0</td>\n",
       "      <td>41</td>\n",
       "      <td>56</td>\n",
       "      <td>10</td>\n",
       "    </tr>\n",
       "  </tbody>\n",
       "</table>\n",
       "</div>"
      ],
      "text/plain": [
       "   Berri1  Boyer  Brébeuf  CSC (Côte Sainte-Catherine)  Maisonneuve_2  \\\n",
       "0      58     12        4                           17             49   \n",
       "1      75      7        5                           15            113   \n",
       "2      79      7        3                            7            107   \n",
       "3      10      1       21                            0             35   \n",
       "4      42      0        2                            0             90   \n",
       "\n",
       "   Maisonneuve_3  Notre-Dame  Parc  PierDup  Rachel / Hôtel de Ville  \\\n",
       "0             21          16    16        7                       58   \n",
       "1             27           9    32       11                      109   \n",
       "2             36          12    18        2                       71   \n",
       "3             29           1     0        0                        6   \n",
       "4             21           1     1        6                        0   \n",
       "\n",
       "   Rachel / Papineau  René-Lévesque  Saint-Antoine  Saint-Urbain  \\\n",
       "0                 91             24              3            17   \n",
       "1                177             32             13            11   \n",
       "2                131             33              5            14   \n",
       "3                 11              6              1             1   \n",
       "4                  5             49             20             0   \n",
       "\n",
       "   Totem_Laurier  University  Viger  \n",
       "0             78          21      6  \n",
       "1             57          77      4  \n",
       "2            174          40      5  \n",
       "3             20           6      0  \n",
       "4             41          56     10  "
      ]
     },
     "execution_count": 8,
     "metadata": {},
     "output_type": "execute_result"
    }
   ],
   "source": [
    "df = df.drop(['Date', 'Unnamed: 1', 'Maisonneuve_1', 'Parc U-Zelt Test', 'Pont_Jacques_Cartier', 'Saint-Laurent U-Zelt Test'], axis=1)\n",
    "df.head()"
   ]
  },
  {
   "cell_type": "markdown",
   "metadata": {},
   "source": [
    "### <font color = #27C3E5> 2.3: </font> <font color = #41EA46> Define Predictor and Target Attribute </font>"
   ]
  },
  {
   "cell_type": "code",
   "execution_count": 9,
   "metadata": {},
   "outputs": [],
   "source": [
    "X = df.iloc[:, :-1]\n",
    "Y = df.iloc[:, -1]"
   ]
  },
  {
   "cell_type": "markdown",
   "metadata": {},
   "source": [
    "#### <font color = blue> Predictor Attribute"
   ]
  },
  {
   "cell_type": "code",
   "execution_count": 10,
   "metadata": {},
   "outputs": [
    {
     "data": {
      "text/html": [
       "<div>\n",
       "<style scoped>\n",
       "    .dataframe tbody tr th:only-of-type {\n",
       "        vertical-align: middle;\n",
       "    }\n",
       "\n",
       "    .dataframe tbody tr th {\n",
       "        vertical-align: top;\n",
       "    }\n",
       "\n",
       "    .dataframe thead th {\n",
       "        text-align: right;\n",
       "    }\n",
       "</style>\n",
       "<table border=\"1\" class=\"dataframe\">\n",
       "  <thead>\n",
       "    <tr style=\"text-align: right;\">\n",
       "      <th></th>\n",
       "      <th>Berri1</th>\n",
       "      <th>Boyer</th>\n",
       "      <th>Brébeuf</th>\n",
       "      <th>CSC (Côte Sainte-Catherine)</th>\n",
       "      <th>Maisonneuve_2</th>\n",
       "      <th>Maisonneuve_3</th>\n",
       "      <th>Notre-Dame</th>\n",
       "      <th>Parc</th>\n",
       "      <th>PierDup</th>\n",
       "      <th>Rachel / Hôtel de Ville</th>\n",
       "      <th>Rachel / Papineau</th>\n",
       "      <th>René-Lévesque</th>\n",
       "      <th>Saint-Antoine</th>\n",
       "      <th>Saint-Urbain</th>\n",
       "      <th>Totem_Laurier</th>\n",
       "      <th>University</th>\n",
       "    </tr>\n",
       "  </thead>\n",
       "  <tbody>\n",
       "    <tr>\n",
       "      <th>0</th>\n",
       "      <td>58</td>\n",
       "      <td>12</td>\n",
       "      <td>4</td>\n",
       "      <td>17</td>\n",
       "      <td>49</td>\n",
       "      <td>21</td>\n",
       "      <td>16</td>\n",
       "      <td>16</td>\n",
       "      <td>7</td>\n",
       "      <td>58</td>\n",
       "      <td>91</td>\n",
       "      <td>24</td>\n",
       "      <td>3</td>\n",
       "      <td>17</td>\n",
       "      <td>78</td>\n",
       "      <td>21</td>\n",
       "    </tr>\n",
       "    <tr>\n",
       "      <th>1</th>\n",
       "      <td>75</td>\n",
       "      <td>7</td>\n",
       "      <td>5</td>\n",
       "      <td>15</td>\n",
       "      <td>113</td>\n",
       "      <td>27</td>\n",
       "      <td>9</td>\n",
       "      <td>32</td>\n",
       "      <td>11</td>\n",
       "      <td>109</td>\n",
       "      <td>177</td>\n",
       "      <td>32</td>\n",
       "      <td>13</td>\n",
       "      <td>11</td>\n",
       "      <td>57</td>\n",
       "      <td>77</td>\n",
       "    </tr>\n",
       "    <tr>\n",
       "      <th>2</th>\n",
       "      <td>79</td>\n",
       "      <td>7</td>\n",
       "      <td>3</td>\n",
       "      <td>7</td>\n",
       "      <td>107</td>\n",
       "      <td>36</td>\n",
       "      <td>12</td>\n",
       "      <td>18</td>\n",
       "      <td>2</td>\n",
       "      <td>71</td>\n",
       "      <td>131</td>\n",
       "      <td>33</td>\n",
       "      <td>5</td>\n",
       "      <td>14</td>\n",
       "      <td>174</td>\n",
       "      <td>40</td>\n",
       "    </tr>\n",
       "    <tr>\n",
       "      <th>3</th>\n",
       "      <td>10</td>\n",
       "      <td>1</td>\n",
       "      <td>21</td>\n",
       "      <td>0</td>\n",
       "      <td>35</td>\n",
       "      <td>29</td>\n",
       "      <td>1</td>\n",
       "      <td>0</td>\n",
       "      <td>0</td>\n",
       "      <td>6</td>\n",
       "      <td>11</td>\n",
       "      <td>6</td>\n",
       "      <td>1</td>\n",
       "      <td>1</td>\n",
       "      <td>20</td>\n",
       "      <td>6</td>\n",
       "    </tr>\n",
       "    <tr>\n",
       "      <th>4</th>\n",
       "      <td>42</td>\n",
       "      <td>0</td>\n",
       "      <td>2</td>\n",
       "      <td>0</td>\n",
       "      <td>90</td>\n",
       "      <td>21</td>\n",
       "      <td>1</td>\n",
       "      <td>1</td>\n",
       "      <td>6</td>\n",
       "      <td>0</td>\n",
       "      <td>5</td>\n",
       "      <td>49</td>\n",
       "      <td>20</td>\n",
       "      <td>0</td>\n",
       "      <td>41</td>\n",
       "      <td>56</td>\n",
       "    </tr>\n",
       "  </tbody>\n",
       "</table>\n",
       "</div>"
      ],
      "text/plain": [
       "   Berri1  Boyer  Brébeuf  CSC (Côte Sainte-Catherine)  Maisonneuve_2  \\\n",
       "0      58     12        4                           17             49   \n",
       "1      75      7        5                           15            113   \n",
       "2      79      7        3                            7            107   \n",
       "3      10      1       21                            0             35   \n",
       "4      42      0        2                            0             90   \n",
       "\n",
       "   Maisonneuve_3  Notre-Dame  Parc  PierDup  Rachel / Hôtel de Ville  \\\n",
       "0             21          16    16        7                       58   \n",
       "1             27           9    32       11                      109   \n",
       "2             36          12    18        2                       71   \n",
       "3             29           1     0        0                        6   \n",
       "4             21           1     1        6                        0   \n",
       "\n",
       "   Rachel / Papineau  René-Lévesque  Saint-Antoine  Saint-Urbain  \\\n",
       "0                 91             24              3            17   \n",
       "1                177             32             13            11   \n",
       "2                131             33              5            14   \n",
       "3                 11              6              1             1   \n",
       "4                  5             49             20             0   \n",
       "\n",
       "   Totem_Laurier  University  \n",
       "0             78          21  \n",
       "1             57          77  \n",
       "2            174          40  \n",
       "3             20           6  \n",
       "4             41          56  "
      ]
     },
     "execution_count": 10,
     "metadata": {},
     "output_type": "execute_result"
    }
   ],
   "source": [
    "X.head()"
   ]
  },
  {
   "cell_type": "markdown",
   "metadata": {},
   "source": [
    "#### <font color = blue> Target Attribute"
   ]
  },
  {
   "cell_type": "code",
   "execution_count": 11,
   "metadata": {},
   "outputs": [
    {
     "data": {
      "text/plain": [
       "0     6\n",
       "1     4\n",
       "2     5\n",
       "3     0\n",
       "4    10\n",
       "Name: Viger, dtype: int64"
      ]
     },
     "execution_count": 11,
     "metadata": {},
     "output_type": "execute_result"
    }
   ],
   "source": [
    "Y.head()"
   ]
  },
  {
   "cell_type": "markdown",
   "metadata": {},
   "source": [
    "### <font color = #27C3E5> 2.5: </font> <font color = #41EA46> Split the Data into Train and Test </font>"
   ]
  },
  {
   "cell_type": "code",
   "execution_count": 23,
   "metadata": {},
   "outputs": [],
   "source": [
    "X_train, X_test, y_train, y_test = train_test_split(X, Y, test_size = 0.2, random_state = 0)"
   ]
  },
  {
   "cell_type": "markdown",
   "metadata": {},
   "source": [
    "#### <font color = blue> Training Data"
   ]
  },
  {
   "cell_type": "code",
   "execution_count": 24,
   "metadata": {},
   "outputs": [
    {
     "name": "stdout",
     "output_type": "stream",
     "text": [
      "X_test (255, 16)\n",
      "X_test (255,)\n"
     ]
    }
   ],
   "source": [
    "print(\"X_test\", X_train.shape)\n",
    "print(\"X_test\", y_train.shape)"
   ]
  },
  {
   "cell_type": "markdown",
   "metadata": {},
   "source": [
    "#### <font color = blue> Testing Data"
   ]
  },
  {
   "cell_type": "code",
   "execution_count": 25,
   "metadata": {},
   "outputs": [
    {
     "name": "stdout",
     "output_type": "stream",
     "text": [
      "X_test (64, 16)\n",
      "X_test (64,)\n"
     ]
    }
   ],
   "source": [
    "print(\"X_test\", X_test.shape)\n",
    "print(\"X_test\", y_test.shape)"
   ]
  },
  {
   "cell_type": "markdown",
   "metadata": {},
   "source": [
    "### <font color = #27C3E5> 2.6: </font> <font color = #41EA46> Feature Scaling </font>"
   ]
  },
  {
   "cell_type": "code",
   "execution_count": 26,
   "metadata": {},
   "outputs": [
    {
     "data": {
      "text/html": [
       "<div>\n",
       "<style scoped>\n",
       "    .dataframe tbody tr th:only-of-type {\n",
       "        vertical-align: middle;\n",
       "    }\n",
       "\n",
       "    .dataframe tbody tr th {\n",
       "        vertical-align: top;\n",
       "    }\n",
       "\n",
       "    .dataframe thead th {\n",
       "        text-align: right;\n",
       "    }\n",
       "</style>\n",
       "<table border=\"1\" class=\"dataframe\">\n",
       "  <thead>\n",
       "    <tr style=\"text-align: right;\">\n",
       "      <th></th>\n",
       "      <th>0</th>\n",
       "      <th>1</th>\n",
       "      <th>2</th>\n",
       "      <th>3</th>\n",
       "      <th>4</th>\n",
       "      <th>5</th>\n",
       "      <th>6</th>\n",
       "      <th>7</th>\n",
       "      <th>8</th>\n",
       "      <th>9</th>\n",
       "      <th>10</th>\n",
       "      <th>11</th>\n",
       "      <th>12</th>\n",
       "      <th>13</th>\n",
       "      <th>14</th>\n",
       "      <th>15</th>\n",
       "    </tr>\n",
       "  </thead>\n",
       "  <tbody>\n",
       "    <tr>\n",
       "      <th>0</th>\n",
       "      <td>0.060636</td>\n",
       "      <td>-0.159104</td>\n",
       "      <td>-0.014851</td>\n",
       "      <td>0.240844</td>\n",
       "      <td>0.541863</td>\n",
       "      <td>0.786309</td>\n",
       "      <td>0.004470</td>\n",
       "      <td>0.422176</td>\n",
       "      <td>-0.561043</td>\n",
       "      <td>0.067486</td>\n",
       "      <td>0.158896</td>\n",
       "      <td>-0.213196</td>\n",
       "      <td>0.593231</td>\n",
       "      <td>0.132740</td>\n",
       "      <td>-0.294324</td>\n",
       "      <td>0.525063</td>\n",
       "    </tr>\n",
       "    <tr>\n",
       "      <th>1</th>\n",
       "      <td>1.024832</td>\n",
       "      <td>0.553134</td>\n",
       "      <td>0.825138</td>\n",
       "      <td>0.877210</td>\n",
       "      <td>-0.827778</td>\n",
       "      <td>0.937950</td>\n",
       "      <td>0.646347</td>\n",
       "      <td>1.215117</td>\n",
       "      <td>0.130109</td>\n",
       "      <td>0.916626</td>\n",
       "      <td>0.855583</td>\n",
       "      <td>0.609161</td>\n",
       "      <td>1.612866</td>\n",
       "      <td>1.041049</td>\n",
       "      <td>0.530181</td>\n",
       "      <td>1.445084</td>\n",
       "    </tr>\n",
       "    <tr>\n",
       "      <th>2</th>\n",
       "      <td>-1.226904</td>\n",
       "      <td>-1.227461</td>\n",
       "      <td>-1.246079</td>\n",
       "      <td>-1.236549</td>\n",
       "      <td>-0.807475</td>\n",
       "      <td>-1.033382</td>\n",
       "      <td>-1.146623</td>\n",
       "      <td>-1.225868</td>\n",
       "      <td>-0.934595</td>\n",
       "      <td>-1.350608</td>\n",
       "      <td>-1.334837</td>\n",
       "      <td>-1.166164</td>\n",
       "      <td>-0.803225</td>\n",
       "      <td>-1.329324</td>\n",
       "      <td>-1.343228</td>\n",
       "      <td>-1.187496</td>\n",
       "    </tr>\n",
       "    <tr>\n",
       "      <th>3</th>\n",
       "      <td>-1.262383</td>\n",
       "      <td>-1.230234</td>\n",
       "      <td>-1.244337</td>\n",
       "      <td>-1.236549</td>\n",
       "      <td>-0.864324</td>\n",
       "      <td>-1.055807</td>\n",
       "      <td>-1.155807</td>\n",
       "      <td>-1.264901</td>\n",
       "      <td>-0.937886</td>\n",
       "      <td>-1.297882</td>\n",
       "      <td>-1.342110</td>\n",
       "      <td>-1.162133</td>\n",
       "      <td>-0.843124</td>\n",
       "      <td>-1.274044</td>\n",
       "      <td>-1.169994</td>\n",
       "      <td>-1.238364</td>\n",
       "    </tr>\n",
       "    <tr>\n",
       "      <th>4</th>\n",
       "      <td>0.419010</td>\n",
       "      <td>0.359543</td>\n",
       "      <td>0.494458</td>\n",
       "      <td>0.401801</td>\n",
       "      <td>1.042535</td>\n",
       "      <td>0.399731</td>\n",
       "      <td>0.531034</td>\n",
       "      <td>0.518312</td>\n",
       "      <td>0.202515</td>\n",
       "      <td>0.374035</td>\n",
       "      <td>0.396943</td>\n",
       "      <td>0.572881</td>\n",
       "      <td>0.992218</td>\n",
       "      <td>0.927630</td>\n",
       "      <td>0.564535</td>\n",
       "      <td>0.659455</td>\n",
       "    </tr>\n",
       "  </tbody>\n",
       "</table>\n",
       "</div>"
      ],
      "text/plain": [
       "         0         1         2         3         4         5         6   \\\n",
       "0  0.060636 -0.159104 -0.014851  0.240844  0.541863  0.786309  0.004470   \n",
       "1  1.024832  0.553134  0.825138  0.877210 -0.827778  0.937950  0.646347   \n",
       "2 -1.226904 -1.227461 -1.246079 -1.236549 -0.807475 -1.033382 -1.146623   \n",
       "3 -1.262383 -1.230234 -1.244337 -1.236549 -0.864324 -1.055807 -1.155807   \n",
       "4  0.419010  0.359543  0.494458  0.401801  1.042535  0.399731  0.531034   \n",
       "\n",
       "         7         8         9         10        11        12        13  \\\n",
       "0  0.422176 -0.561043  0.067486  0.158896 -0.213196  0.593231  0.132740   \n",
       "1  1.215117  0.130109  0.916626  0.855583  0.609161  1.612866  1.041049   \n",
       "2 -1.225868 -0.934595 -1.350608 -1.334837 -1.166164 -0.803225 -1.329324   \n",
       "3 -1.264901 -0.937886 -1.297882 -1.342110 -1.162133 -0.843124 -1.274044   \n",
       "4  0.518312  0.202515  0.374035  0.396943  0.572881  0.992218  0.927630   \n",
       "\n",
       "         14        15  \n",
       "0 -0.294324  0.525063  \n",
       "1  0.530181  1.445084  \n",
       "2 -1.343228 -1.187496  \n",
       "3 -1.169994 -1.238364  \n",
       "4  0.564535  0.659455  "
      ]
     },
     "execution_count": 26,
     "metadata": {},
     "output_type": "execute_result"
    }
   ],
   "source": [
    "SS = StandardScaler()\n",
    "X_train = SS.fit_transform(X_train)\n",
    "X_test = SS.transform(X_test)\n",
    "\n",
    "pd.DataFrame(X_test).head()  # Same Scale"
   ]
  },
  {
   "cell_type": "markdown",
   "metadata": {},
   "source": [
    "![Machine Learning Project](https://user-images.githubusercontent.com/7065401/52071927-c1cd7100-2562-11e9-908a-dde91ba14e59.png)"
   ]
  },
  {
   "cell_type": "markdown",
   "metadata": {},
   "source": [
    "## <font color = #950CDF> Part 4: </font> <font color = #4854E8> Build the Random Forrest Tree Regression </font>\n",
    "In this part, we build Random Forrest Regression Model using Scikit-Learn"
   ]
  },
  {
   "cell_type": "markdown",
   "metadata": {},
   "source": [
    "![ML](https://user-images.githubusercontent.com/7065401/52071924-c003ad80-2562-11e9-8297-1c6595f8a7ff.png)"
   ]
  },
  {
   "cell_type": "markdown",
   "metadata": {},
   "source": [
    "#### <font color = blue> Import Model from Sklearn"
   ]
  },
  {
   "cell_type": "code",
   "execution_count": 27,
   "metadata": {},
   "outputs": [],
   "source": [
    "from sklearn.ensemble import RandomForestRegressor"
   ]
  },
  {
   "cell_type": "markdown",
   "metadata": {},
   "source": [
    "#### <font color = blue> Initialize the Model"
   ]
  },
  {
   "cell_type": "code",
   "execution_count": 28,
   "metadata": {},
   "outputs": [],
   "source": [
    "regressor = RandomForestRegressor(n_estimators=20, max_depth=3, random_state=0)"
   ]
  },
  {
   "cell_type": "markdown",
   "metadata": {},
   "source": [
    "#### <font color = blue> Fit the Model"
   ]
  },
  {
   "cell_type": "code",
   "execution_count": 29,
   "metadata": {},
   "outputs": [
    {
     "data": {
      "text/plain": [
       "RandomForestRegressor(max_depth=3, n_estimators=20, random_state=0)"
      ]
     },
     "execution_count": 29,
     "metadata": {},
     "output_type": "execute_result"
    }
   ],
   "source": [
    "regressor.fit(X_train, y_train)"
   ]
  },
  {
   "cell_type": "markdown",
   "metadata": {},
   "source": [
    "#### <font color = blue> Predict the Test Data</font>"
   ]
  },
  {
   "cell_type": "code",
   "execution_count": 30,
   "metadata": {},
   "outputs": [
    {
     "data": {
      "text/plain": [
       "array([384.5037049 , 536.15025266,  18.89187566,  18.89187566,\n",
       "       428.50362603,  18.89187566, 599.90826624, 615.61198971,\n",
       "       259.82342959, 688.50130574,  18.89187566, 330.7879147 ,\n",
       "       672.85989915, 205.64049996, 278.28241231,  18.89187566,\n",
       "       388.78922571, 474.76381486,  18.89187566,  18.89187566,\n",
       "       417.73363764, 267.70785007, 380.71325705, 683.02000861,\n",
       "       664.40379473, 177.34278912, 282.57346301,  18.89187566,\n",
       "        18.89187566, 324.53153715, 668.3792888 ,  18.89187566,\n",
       "       521.7055838 ,  18.89187566,  18.89187566, 361.53845744,\n",
       "        18.89187566, 175.63563294,  74.00911049, 259.82342959,\n",
       "       669.88509186,  95.59182051,  18.89187566, 566.57134311,\n",
       "       612.15232056,  95.59182051, 553.5718242 , 607.15588529,\n",
       "        18.89187566,  18.89187566, 383.16560821,  74.00911049,\n",
       "       599.90826624,  18.89187566, 629.76921399, 664.40379473,\n",
       "        18.89187566,  99.2314796 , 280.24130489,  18.89187566,\n",
       "        18.89187566,  18.89187566, 546.89806202, 668.3792888 ])"
      ]
     },
     "execution_count": 30,
     "metadata": {},
     "output_type": "execute_result"
    }
   ],
   "source": [
    "y_pred = regressor.predict(X_test)\n",
    "y_pred"
   ]
  },
  {
   "cell_type": "markdown",
   "metadata": {},
   "source": [
    "![Machine Learning Project](https://user-images.githubusercontent.com/7065401/52071927-c1cd7100-2562-11e9-908a-dde91ba14e59.png)"
   ]
  },
  {
   "cell_type": "markdown",
   "metadata": {},
   "source": [
    "## <font color = #950CDF> Part 4: </font> <font color = #4854E8> Evaluate the Result </font>\n",
    "In this part, we evaluate the Decision Tree Regression Model. And for evaluation we will use three metrics. <br>\n",
    "`R Square`: R Square measures how much variability in dependent variable can be explained by the model. <br>\n",
    "`Mean Square Error`: MSE is calculated by the sum of square of prediction error which is real output minus predicted output and then divide by the number of data points. It gives you an absolute number on how much your predicted results deviate from the actual number. <br>\n",
    "`Mean Absolute Error`: Mean Absolute Error(MAE) is similar to Mean Square Error(MSE). However, instead of the sum of square of error in MSE, MAE is taking the sum of the absolute value of error."
   ]
  },
  {
   "cell_type": "markdown",
   "metadata": {},
   "source": [
    "![ML](https://user-images.githubusercontent.com/7065401/52071924-c003ad80-2562-11e9-8297-1c6595f8a7ff.png)"
   ]
  },
  {
   "cell_type": "markdown",
   "metadata": {},
   "source": [
    "### <font color = #27C3E5> 4.1: </font> <font color = #41EA46>  Evaluate the Results </font>"
   ]
  },
  {
   "cell_type": "code",
   "execution_count": 31,
   "metadata": {},
   "outputs": [],
   "source": [
    "from sklearn.metrics import r2_score, mean_squared_error, mean_absolute_error"
   ]
  },
  {
   "cell_type": "markdown",
   "metadata": {},
   "source": [
    "#### <font color = blue>4.2.1: Calculate the Results"
   ]
  },
  {
   "cell_type": "code",
   "execution_count": 32,
   "metadata": {},
   "outputs": [
    {
     "name": "stdout",
     "output_type": "stream",
     "text": [
      "R Square: 0.9646436399885321\n",
      "Mean Squared Error: 2216.57991072853\n",
      "Mean Absolute Error: 36.1551857859895\n"
     ]
    }
   ],
   "source": [
    "# R Square\n",
    "R_Square = r2_score(y_pred, y_test)\n",
    "print('R Square:', R_Square) \n",
    "\n",
    "# Mean Square Error\n",
    "MSE = mean_squared_error(y_pred, y_test)\n",
    "print('Mean Squared Error:', MSE)\n",
    "\n",
    "# Mean Square Error\n",
    "MAE = mean_absolute_error(y_pred, y_test)\n",
    "print('Mean Absolute Error:', MAE)"
   ]
  },
  {
   "cell_type": "markdown",
   "metadata": {},
   "source": [
    "![Machine Learning Project](https://user-images.githubusercontent.com/7065401/52071927-c1cd7100-2562-11e9-908a-dde91ba14e59.png)"
   ]
  },
  {
   "cell_type": "markdown",
   "metadata": {},
   "source": [
    "<b>©</b>Amir Ali"
   ]
  }
 ],
 "metadata": {
  "kernelspec": {
   "display_name": "Python 3 (ipykernel)",
   "language": "python",
   "name": "python3"
  },
  "language_info": {
   "codemirror_mode": {
    "name": "ipython",
    "version": 3
   },
   "file_extension": ".py",
   "mimetype": "text/x-python",
   "name": "python",
   "nbconvert_exporter": "python",
   "pygments_lexer": "ipython3",
   "version": "3.9.7"
  }
 },
 "nbformat": 4,
 "nbformat_minor": 1
}
